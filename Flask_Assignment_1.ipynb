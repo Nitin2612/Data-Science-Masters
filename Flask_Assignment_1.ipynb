{
  "cells": [
    {
      "cell_type": "markdown",
      "id": "6dad9659",
      "metadata": {
        "id": "6dad9659"
      },
      "source": [
        "## Question 1: What is Flask Framework? What are the advantages of Flask Framework?\n",
        "---"
      ]
    },
    {
      "cell_type": "markdown",
      "id": "a1a9e5a0",
      "metadata": {
        "id": "a1a9e5a0"
      },
      "source": [
        "Flask is a micro web framework for Python that allows you to build web applications quickly and easily. It is lightweight and flexible, and it comes with a minimal set of tools and libraries, which allows developers to have greater control over their applications.\n",
        "\n",
        "Some advantages of Flask are:\n",
        "\n",
        "Simplicity: Flask has a simple and intuitive API, which makes it easy to learn and use, even for beginners.\n",
        "\n",
        "Flexibility: Flask is a lightweight framework, which means that it doesn't impose any specific coding patterns or project structures. This allows developers to build applications according to their specific needs and preferences.\n",
        "\n",
        "Extensibility: Flask has a modular design, which means that developers can add or remove features as needed, using a variety of third-party extensions.\n",
        "\n",
        "Scalability: Flask is designed to scale well, allowing developers to easily add more functionality as their applications grow.\n",
        "\n",
        "Testing: Flask makes it easy to write and run tests for your application, which is essential for ensuring its quality and reliability.\n",
        "\n",
        "Compatibility: Flask works with a wide range of Python versions and web servers, which makes it a versatile and reliable choice for web development.\n",
        "\n",
        "Overall, Flask is a great choice for building small to medium-sized web applications, due to its simplicity, flexibility, and extensibility."
      ]
    },
    {
      "cell_type": "markdown",
      "id": "1444fdf0",
      "metadata": {
        "id": "1444fdf0"
      },
      "source": [
        "## Question 2: Create a simple Flask application to display ‘Hello World!!’. Attach the screenshot of the output in Jupyter Notebook.\n",
        "---"
      ]
    },
    {
      "cell_type": "code",
      "execution_count": null,
      "id": "2b58bea3",
      "metadata": {
        "id": "2b58bea3",
        "outputId": "52f0791d-444c-47e4-ff48-8ad06aead568"
      },
      "outputs": [
        {
          "name": "stdout",
          "output_type": "stream",
          "text": [
            "Requirement already satisfied: flask in ./opt/anaconda3/lib/python3.9/site-packages (1.1.2)\n",
            "Requirement already satisfied: Jinja2>=2.10.1 in ./opt/anaconda3/lib/python3.9/site-packages (from flask) (2.11.3)\n",
            "Requirement already satisfied: click>=5.1 in ./opt/anaconda3/lib/python3.9/site-packages (from flask) (8.0.4)\n",
            "Requirement already satisfied: Werkzeug>=0.15 in ./opt/anaconda3/lib/python3.9/site-packages (from flask) (2.0.3)\n",
            "Requirement already satisfied: itsdangerous>=0.24 in ./opt/anaconda3/lib/python3.9/site-packages (from flask) (2.0.1)\n",
            "Requirement already satisfied: MarkupSafe>=0.23 in ./opt/anaconda3/lib/python3.9/site-packages (from Jinja2>=2.10.1->flask) (2.0.1)\n",
            "Note: you may need to restart the kernel to use updated packages.\n"
          ]
        }
      ],
      "source": [
        "%pip install flask"
      ]
    },
    {
      "cell_type": "code",
      "execution_count": null,
      "id": "d06a8fe2",
      "metadata": {
        "id": "d06a8fe2",
        "outputId": "17fd43dd-1a9f-465a-e5a1-538550b6b6a1"
      },
      "outputs": [
        {
          "name": "stdout",
          "output_type": "stream",
          "text": [
            " * Serving Flask app \"__main__\" (lazy loading)\n",
            " * Environment: production\n",
            "\u001b[31m   WARNING: This is a development server. Do not use it in a production deployment.\u001b[0m\n",
            "\u001b[2m   Use a production WSGI server instead.\u001b[0m\n",
            " * Debug mode: off\n"
          ]
        },
        {
          "name": "stderr",
          "output_type": "stream",
          "text": [
            " * Running on all addresses.\n",
            "   WARNING: This is a development server. Do not use it in a production deployment.\n",
            " * Running on http://192.168.0.106:5000/ (Press CTRL+C to quit)\n"
          ]
        }
      ],
      "source": [
        "from flask import Flask\n",
        "\n",
        "app=Flask(__name__)\n",
        "\n",
        "\n",
        "@app.route(\"/\")\n",
        "def function():\n",
        "    return \"Hello World!!\"\n",
        "\n",
        "if __name__==\"__main__\":\n",
        "    app.run(host=\"0.0.0.0\")"
      ]
    },
    {
      "cell_type": "markdown",
      "id": "549fbb01",
      "metadata": {
        "id": "549fbb01"
      },
      "source": [
        "![11.png](attachment:11.png)"
      ]
    },
    {
      "cell_type": "markdown",
      "id": "131d6aa2",
      "metadata": {
        "id": "131d6aa2"
      },
      "source": [
        "## Question 3: What is App routing in Flask? Why do we use app routes?\n",
        "---"
      ]
    },
    {
      "cell_type": "markdown",
      "id": "157a72d1",
      "metadata": {
        "id": "157a72d1"
      },
      "source": [
        "In Flask, app routing is the process of mapping URLs (or routes) to view functions in your Flask application. When a user visits a specific URL in your application, Flask will invoke the appropriate view function and generate a response to return to the user's browser.\n",
        "\n",
        "App routing is important in Flask because it allows you to define the structure and behavior of your web application. By defining routes and associated view functions, you can control what content is displayed to the user at different URLs in your application.\n",
        "\n",
        "App routing provides several benefits in Flask:\n",
        "\n",
        "Separation of concerns: By mapping routes to specific view functions, you can separate the logic of your application into discrete, modular components. This makes your code more maintainable and easier to understand.\n",
        "\n",
        "URL handling: App routing allows you to handle URLs and their parameters in a flexible and powerful way. This makes it easy to create dynamic, data-driven web applications.\n",
        "\n",
        "Customization: With app routing, you have full control over the behavior of your web application. You can customize the routing behavior based on user input, session data, or any other factor you choose.\n",
        "\n",
        "Here's an example of how to define a simple app route in Flask:"
      ]
    },
    {
      "cell_type": "code",
      "execution_count": null,
      "id": "23d5202c",
      "metadata": {
        "id": "23d5202c"
      },
      "outputs": [],
      "source": [
        "from flask import Flask\n",
        "\n",
        "app=Flask(__name__)\n",
        "\n",
        "@app.route(\"/h\")\n",
        "def home():\n",
        "    return \"pwskills\"\n",
        "\n",
        "if __name__==\"__main__\":\n",
        "    app.run(host=\"0.0.0.0\")"
      ]
    },
    {
      "cell_type": "markdown",
      "id": "312e2326",
      "metadata": {
        "id": "312e2326"
      },
      "source": [
        "App routing is a powerful feature of Flask that allows you to build complex web applications with ease. By defining app routes, you can create a logical structure for your application and make it easy for users to navigate and interact with your content."
      ]
    },
    {
      "cell_type": "markdown",
      "id": "1a609ec1",
      "metadata": {
        "id": "1a609ec1"
      },
      "source": [
        "## Question 4: Create a “/welcome” route to display the welcome message “Welcome to ABC Corporation” and a “/” route to show the following details:\n",
        "\n",
        "Company Name: ABC Corporation\n",
        "\n",
        "Location: India\n",
        "\n",
        "Contact Detail: 999-999-9999\n",
        "\n",
        "Attach the screenshot of the output in Jupyter Notebook.\n",
        "\n",
        "---"
      ]
    },
    {
      "cell_type": "code",
      "execution_count": null,
      "id": "e5a36c68",
      "metadata": {
        "id": "e5a36c68"
      },
      "outputs": [],
      "source": [
        "from flask import Flask\n",
        "\n",
        "app=Flask(__name__)\n",
        "\n",
        "@app.route(\"/welcome\")\n",
        "def function1():\n",
        "    return \"Welcome to ABC Corporation\"\n",
        "\n",
        "@app.route(\"/\")\n",
        "def function2():\n",
        "        return '''\n",
        "    <h1>Company Name: ABC Corporation</h1>\n",
        "    <p>Location: India</p>\n",
        "    <p>Contact Detail: 999-999-9999</p>\n",
        "    '''\n",
        "\n",
        "\n",
        "\n",
        "if __name__==\"__main__\":\n",
        "    app.run(host=\"0.0.0.0\")"
      ]
    },
    {
      "cell_type": "markdown",
      "id": "008cc25a",
      "metadata": {
        "id": "008cc25a"
      },
      "source": [
        "![22.png](attachment:22.png)"
      ]
    },
    {
      "cell_type": "markdown",
      "id": "bb8289ab",
      "metadata": {
        "id": "bb8289ab"
      },
      "source": [
        "![33.png](attachment:33.png)"
      ]
    },
    {
      "cell_type": "markdown",
      "id": "b3df4e2d",
      "metadata": {
        "id": "b3df4e2d"
      },
      "source": [
        "## Question 5: What function is used in Flask for URL Building? Write a Python code to demonstrate the working of the url_for() function\n",
        "---"
      ]
    },
    {
      "cell_type": "markdown",
      "id": "c9813464",
      "metadata": {
        "id": "c9813464"
      },
      "source": [
        "The url_for() function is used in Flask for URL building. It generates a URL to a specific function based on the provided endpoint and any arguments passed to it.\n",
        "\n",
        "Here is an example Python code to demonstrate the working of the url_for() function in Flask:"
      ]
    },
    {
      "cell_type": "code",
      "execution_count": null,
      "id": "9c2e23ec",
      "metadata": {
        "id": "9c2e23ec",
        "outputId": "7f3ea106-33d6-4f0e-d28c-28c43212ef8d"
      },
      "outputs": [
        {
          "name": "stdout",
          "output_type": "stream",
          "text": [
            "/\n",
            "/user/Alice\n"
          ]
        }
      ],
      "source": [
        "from flask import Flask , url_for\n",
        "\n",
        "app=Flask(__name__)\n",
        "\n",
        "@app.route(\"/\")\n",
        "def home():\n",
        "    return \"data science masters\"\n",
        "\n",
        "@app.route(\"/user/<name>\")\n",
        "def user(name):\n",
        "    return f\"Hello , {name}!\"\n",
        "\n",
        "\n",
        "if __name__==\"__main__\":\n",
        "    with app.test_request_context():\n",
        "        print(url_for(\"home\"))\n",
        "        print(url_for(\"user\",name='Alice'))\n"
      ]
    }
  ],
  "metadata": {
    "kernelspec": {
      "display_name": "Python 3 (ipykernel)",
      "language": "python",
      "name": "python3"
    },
    "language_info": {
      "codemirror_mode": {
        "name": "ipython",
        "version": 3
      },
      "file_extension": ".py",
      "mimetype": "text/x-python",
      "name": "python",
      "nbconvert_exporter": "python",
      "pygments_lexer": "ipython3",
      "version": "3.9.13"
    },
    "colab": {
      "provenance": []
    }
  },
  "nbformat": 4,
  "nbformat_minor": 5
}