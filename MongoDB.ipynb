{
  "nbformat": 4,
  "nbformat_minor": 0,
  "metadata": {
    "colab": {
      "provenance": []
    },
    "kernelspec": {
      "name": "python3",
      "display_name": "Python 3"
    },
    "language_info": {
      "name": "python"
    }
  },
  "cells": [
    {
      "cell_type": "markdown",
      "source": [
        "# Q1. What is MongoDB? Explain non-relational databases in short. In which scenarios it is preferred to use MongoDB over SQL databases?"
      ],
      "metadata": {
        "id": "yANjr9x5tfEn"
      }
    },
    {
      "cell_type": "markdown",
      "source": [
        "# MongoDB and Non-Relational Databases\n",
        "--------------------------------------\n",
        "## What is MongoDB?\n",
        "MongoDB is an open-source, **NoSQL (Non-relational)** database system that is designed for handling large volumes of unstructured or semi-structured data. Unlike traditional SQL databases, MongoDB stores data in flexible, JSON-like format called **BSON** (Binary JSON), allowing for rich data structures and dynamic schemas. It is a **document-oriented** database, meaning each record is stored as a document, which can vary in structure.\n",
        "\n",
        "### Key Features of MongoDB:\n",
        "1. **Schema-less**: No fixed schema for documents, allowing flexibility in storing varied data types.\n",
        "2. **Scalability**: Built for horizontal scaling, meaning it can efficiently scale across many servers.\n",
        "3. **High Performance**: Optimized for high-speed read and write operations.\n",
        "4. **Replication**: Supports replica sets for high availability and data redundancy.\n",
        "5. **Aggregation**: Provides powerful aggregation frameworks to perform complex queries.\n",
        "\n",
        "## Non-Relational Databases (NoSQL Databases)\n",
        "Non-relational (NoSQL) databases are designed to handle **unstructured** and **semi-structured** data, in contrast to relational databases, which store data in structured tables with rows and columns. NoSQL databases are more flexible, scalable, and efficient in managing large volumes of varied data, making them suitable for modern web applications, big data analysis, and real-time data processing.\n",
        "\n",
        "### Types of NoSQL Databases:\n",
        "1. **Document-based**: Store data in documents (e.g., MongoDB, CouchDB).\n",
        "2. **Key-Value stores**: Data stored as key-value pairs (e.g., Redis, DynamoDB).\n",
        "3. **Column-family stores**: Data stored in columns rather than rows (e.g., Cassandra).\n",
        "4. **Graph databases**: Store relationships between data nodes (e.g., Neo4j).\n",
        "\n",
        "### Benefits of Non-Relational Databases:\n",
        "- Flexibility in data modeling (no need for a rigid schema).\n",
        "- Horizontal scaling (easily scalable by distributing data across multiple servers).\n",
        "- Better suited for handling large, distributed, or unstructured data.\n",
        "  \n",
        "## Scenarios Where MongoDB is Preferred Over SQL Databases:\n",
        "MongoDB is preferred over SQL databases in scenarios that require flexibility, scalability, and high performance in handling large volumes of unstructured or semi-structured data. Here are some key scenarios:\n",
        "\n",
        "1. **Handling Unstructured or Semi-structured Data**:\n",
        "   - MongoDB stores data in flexible **JSON-like** documents, which means there is no need for a predefined schema. This makes it ideal for applications dealing with unstructured or semi-structured data, such as social media feeds, sensor data, or user-generated content.\n",
        "   - **Example**: Storing user profiles with varying fields such as contact details, social media connections, and preferences.\n",
        "\n",
        "2. **Big Data and Real-time Analytics**:\n",
        "   - When dealing with large datasets, especially those requiring real-time read and write access, MongoDB provides high throughput and low latency.\n",
        "   - **Example**: Real-time data analysis for IoT devices, financial trading, or user activity tracking.\n",
        "\n",
        "3. **Horizontal Scalability**:\n",
        "   - MongoDB is designed for **horizontal scaling**, meaning it can easily scale by adding more machines (sharding). This is particularly useful when data grows beyond the capacity of a single server, ensuring better performance as the system scales.\n",
        "   - **Example**: A globally distributed e-commerce platform needs to store and manage user data across multiple regions.\n",
        "\n",
        "4. **Rapid Development with Flexible Schema**:\n",
        "   - MongoDB’s schema-less nature allows developers to make quick changes to data structures during development, making it suitable for agile development environments where requirements may evolve quickly.\n",
        "   - **Example**: A fast-growing startup needs to quickly change its data model as the product evolves.\n",
        "\n",
        "5. **Content Management Systems (CMS)**:\n",
        "   - For applications like blogs, forums, or CMS platforms, where content can vary significantly, MongoDB’s flexible document model is ideal.\n",
        "   - **Example**: A blogging platform storing posts, images, metadata, and comments, all with different structures.\n",
        "\n",
        "6. **Cloud-Native Applications**:\n",
        "   - MongoDB is well-suited for cloud environments where elastic scaling is required. It integrates seamlessly with cloud platforms, ensuring continuous scalability.\n",
        "   - **Example**: An e-commerce platform running in the cloud, which needs to scale dynamically based on traffic.\n",
        "\n",
        "7. **Geospatial Data**:\n",
        "   - MongoDB provides **geospatial indexing** and querying capabilities, which is useful for applications that require location-based services.\n",
        "   - **Example**: A ride-sharing app that needs to store and query data based on geographic locations.\n"
      ],
      "metadata": {
        "id": "auweWUEj0r5E"
      }
    },
    {
      "cell_type": "markdown",
      "source": [
        "# Q2. State and Explain the features of MongoDB."
      ],
      "metadata": {
        "id": "0fpxlV3t04o_"
      }
    },
    {
      "cell_type": "markdown",
      "source": [
        "# Features of MongoDB\n",
        "----------------------\n",
        "MongoDB is a popular NoSQL database that is widely used for managing large amounts of unstructured data. It provides a flexible, scalable, and high-performance data management solution. Here are the key features of MongoDB:\n",
        "\n",
        "## 1. **Document-Oriented Storage**\n",
        "   - MongoDB stores data in **documents** (using BSON - Binary JSON format). Unlike relational databases that store data in tables and rows, MongoDB stores data in JSON-like documents, allowing for a more flexible and hierarchical structure.\n",
        "   - **Example**: A document representing a customer in MongoDB might look like this:\n",
        "     ```json\n",
        "     {\n",
        "         \"_id\": ObjectId(\"5f78a4b8b1f1b2bcf25db0f1\"),\n",
        "         \"name\": \"John Doe\",\n",
        "         \"age\": 30,\n",
        "         \"address\": {\n",
        "             \"street\": \"123 Main St\",\n",
        "             \"city\": \"New York\"\n",
        "         },\n",
        "         \"phone_numbers\": [\"123-456-7890\", \"987-654-3210\"]\n",
        "     }\n",
        "     ```\n",
        "\n",
        "## 2. **Schema-less Design**\n",
        "   - MongoDB does not require a fixed schema for documents, which means each document can have a different structure. This allows for easy adjustments to data models as the application evolves.\n",
        "   - **Example**: A user document may have different fields across different records (one user might have a field `birthdate`, another may not).\n",
        "\n",
        "## 3. **Scalability**\n",
        "   - MongoDB supports **horizontal scaling** (sharding), which allows it to distribute data across multiple servers, ensuring high availability and performance as data grows. This makes MongoDB highly scalable for large-scale applications.\n",
        "   - **Example**: MongoDB can scale by partitioning large datasets into smaller chunks and distributing them across multiple machines.\n",
        "\n",
        "## 4. **High Availability (Replication)**\n",
        "   - MongoDB provides **replication** through **Replica Sets**, which are groups of MongoDB servers that maintain the same data set, providing redundancy and high availability. If one server goes down, another server in the replica set can take over.\n",
        "   - **Example**: A company uses MongoDB's replication feature to ensure that data remains accessible even if one server fails.\n",
        "\n",
        "## 5. **Indexing**\n",
        "   - MongoDB allows **indexing** on fields to improve the performance of queries. It supports various types of indexes, including single field, compound, geospatial, and text indexes, which make searching through large datasets efficient.\n",
        "   - **Example**: Indexing the `name` field allows faster search queries for customer names.\n",
        "     ```python\n",
        "     db.customers.createIndex({ \"name\": 1 })\n",
        "     ```\n",
        "\n",
        "## 6. **Aggregation Framework**\n",
        "   - MongoDB provides a powerful **aggregation framework** that allows users to process data and compute complex operations like filtering, sorting, grouping, and transforming data.\n",
        "   - **Example**: You can use the aggregation framework to calculate the total sales of a product in a given time range.\n",
        "     ```python\n",
        "     db.sales.aggregate([\n",
        "         { $match: { \"product\": \"Laptop\" } },\n",
        "         { $group: { _id: \"$product\", totalSales: { $sum: \"$amount\" } } }\n",
        "     ])\n",
        "     ```\n",
        "\n",
        "## 7. **Ad-hoc Queries**\n",
        "   - MongoDB supports **ad-hoc queries**, which means you can query the database without the need to define the query structure in advance. This makes MongoDB flexible and efficient for dynamic queries.\n",
        "   - **Example**: A user can query for all customers in a specific city without defining the query beforehand.\n",
        "     ```python\n",
        "     db.customers.find({ \"address.city\": \"New York\" })\n",
        "     ```\n",
        "\n",
        "## 8. **Support for Geospatial Data**\n",
        "   - MongoDB offers support for **geospatial indexing**, enabling the storage and querying of geographical data, such as location coordinates (latitude and longitude). This is particularly useful for location-based applications like ride-sharing services or GPS-based apps.\n",
        "   - **Example**: You can store and query the location of restaurants within a specific radius from a user's location.\n",
        "\n",
        "## 9. **Flexible and Dynamic Data Model**\n",
        "   - MongoDB's flexible data model allows it to store diverse types of data with varying attributes in the same database. This is especially beneficial in applications that require fast and iterative development.\n",
        "   - **Example**: An e-commerce application can store different attributes for different product categories (e.g., electronics, clothing).\n",
        "\n",
        "## 10. **Native Aggregation and MapReduce**\n",
        "   - MongoDB supports **MapReduce** and aggregation pipelines, providing tools for complex data processing and manipulation.\n",
        "   - **Example**: If you need to count the number of orders per product, you can use MongoDB’s aggregation framework or MapReduce for this task.\n",
        "\n",
        "## 11. **Data Redundancy & Backup**\n",
        "   - MongoDB provides automatic **data redundancy** and allows for data backup and recovery, which ensures that data is not lost in case of failure.\n",
        "   - **Example**: MongoDB’s **Oplog** can be used for point-in-time recovery and backup of data.\n",
        "\n",
        "## 12. **JavaScript-Based Query Language**\n",
        "   - MongoDB uses **JavaScript** for querying and processing data, which allows developers to write queries using JavaScript-style syntax.\n",
        "   - **Example**: MongoDB queries can be written directly in JavaScript, making it easier for developers familiar with JavaScript to work with MongoDB.\n"
      ],
      "metadata": {
        "id": "No7pmECG09Ko"
      }
    },
    {
      "cell_type": "markdown",
      "source": [
        "# Q3. Write a code to connect MongoDB to Python. Also, create a database and a collection in MongoDB."
      ],
      "metadata": {
        "id": "NPUDj_j11YoG"
      }
    },
    {
      "cell_type": "code",
      "source": [
        "from pymongo import MongoClient\n",
        "\n",
        "client = MongoClient(\"mongodb://localhost:27017/\")\n",
        "db = client[\"my_database\"]\n",
        "collection = db[\"my_collection\"]\n",
        "\n",
        "document = {\n",
        "    \"name\": \"Alice\",\n",
        "    \"age\": 30,\n",
        "    \"city\": \"New York\"\n",
        "}\n",
        "\n",
        "collection.insert_one(document)\n",
        "\n",
        "print(\"Document inserted:\")\n",
        "for doc in collection.find():\n",
        "    print(doc)\n"
      ],
      "metadata": {
        "id": "C8dHjLFt16NS"
      },
      "execution_count": null,
      "outputs": []
    },
    {
      "cell_type": "markdown",
      "source": [
        "# Q4. Using the database and the collection created in question number 3, write a code to insert one record, and insert many records. Use the find() and find_one() methods to print the inserted record."
      ],
      "metadata": {
        "id": "F9zewQV717a6"
      }
    },
    {
      "cell_type": "code",
      "source": [
        "from pymongo import MongoClient\n",
        "\n",
        "client = MongoClient(\"mongodb://localhost:27017/\")\n",
        "db = client[\"my_database\"]\n",
        "collection = db[\"my_collection\"]\n",
        "\n",
        "record_one = {\n",
        "    \"name\": \"Bob\",\n",
        "    \"age\": 25,\n",
        "    \"city\": \"Los Angeles\"\n",
        "}\n",
        "collection.insert_one(record_one)\n",
        "\n",
        "records_many = [\n",
        "    {\"name\": \"Charlie\", \"age\": 28, \"city\": \"Chicago\"},\n",
        "    {\"name\": \"David\", \"age\": 35, \"city\": \"San Francisco\"},\n",
        "    {\"name\": \"Eva\", \"age\": 22, \"city\": \"Miami\"}\n",
        "]\n",
        "collection.insert_many(records_many)\n",
        "\n",
        "print(\"Inserted one record:\")\n",
        "print(collection.find_one({\"name\": \"Bob\"}))\n",
        "\n",
        "print(\"Inserted many records:\")\n",
        "for record in collection.find():\n",
        "    print(record)\n"
      ],
      "metadata": {
        "id": "nmxR3bgD2A6Q"
      },
      "execution_count": null,
      "outputs": []
    },
    {
      "cell_type": "markdown",
      "source": [
        "# Q5. Explain how you can use the find() method to query the MongoDB database. Write a simple code to demonstrate this."
      ],
      "metadata": {
        "id": "8QqBEtMr2NKV"
      }
    },
    {
      "cell_type": "markdown",
      "source": [
        "# MongoDB Query using the find() Method\n",
        "--------------------------------------------------------------\n",
        "In MongoDB, the `find()` method is used to query documents from a collection. It returns a cursor object, which can be iterated to retrieve the matching documents.\n",
        "\n",
        "1. **Basic Syntax**:\n",
        "   - `db.collection.find(query, projection)`\n",
        "\n",
        "   Where:\n",
        "   - `query` is the condition used to filter documents.\n",
        "   - `projection` is optional and specifies which fields to include or exclude in the results.\n",
        "\n",
        "2. **Basic Query Example**:\n",
        "   Let's say we have a collection named `students` in the database `school` and want to retrieve all documents (students).\n",
        "\n",
        "   ```python\n",
        "   # Importing pymongo\n",
        "   from pymongo import MongoClient\n",
        "\n",
        "   # Connect to MongoDB\n",
        "   client = MongoClient('mongodb://localhost:27017/')\n",
        "   db = client['school']\n",
        "   collection = db['students']\n",
        "\n",
        "   # Find all documents\n",
        "   result = collection.find()\n",
        "\n",
        "   # Print the result\n",
        "   for student in result:\n",
        "       print(student)\n"
      ],
      "metadata": {
        "id": "Dr7NVMkR2sVG"
      }
    },
    {
      "cell_type": "code",
      "source": [
        "from pymongo import MongoClient\n",
        "\n",
        "client = MongoClient('mongodb://localhost:27017/')\n",
        "\n",
        "db = client['school']\n",
        "\n",
        "collection = db['students']\n",
        "\n",
        "result = collection.find({}, {\"_id\": 0, \"name\": 1, \"age\": 1})\n",
        "\n",
        "for student in result:\n",
        "    print(student)\n"
      ],
      "metadata": {
        "id": "Fhb4OZcz2y1P"
      },
      "execution_count": null,
      "outputs": []
    },
    {
      "cell_type": "markdown",
      "source": [
        "# Q6. Explain the sort() method. Give an example to demonstrate sorting in MongoDB."
      ],
      "metadata": {
        "id": "nQqWDlou3HKz"
      }
    },
    {
      "cell_type": "markdown",
      "source": [
        "# sort() Method in Python\n",
        "# ------------------------\n",
        "# The sort() method in Python is used to sort a list in place, meaning the original list is modified and returned as a sorted list.\n",
        "# This method can be applied to lists and modifies the list according to the specified order (ascending or descending).\n",
        "\n",
        "# Syntax:\n",
        "# list.sort(reverse=False, key=None)\n",
        "\n",
        "# Parameters:\n",
        "# 1. reverse (optional): If set to True, the list is sorted in descending order. Default is False, meaning ascending order.\n",
        "# 2. key (optional): A function that specifies a sorting criterion. The list elements are passed to this function during sorting. Default is None.\n",
        "\n",
        "# Example:\n",
        "\n",
        "# 1. Sorting in ascending order:\n",
        "numbers = [4, 2, 9, 1, 5, 6]\n",
        "numbers.sort()  # By default, it sorts in ascending order\n",
        "print(numbers)  # Output: [1, 2, 4, 5, 6, 9]\n",
        "\n",
        "# 2. Sorting in descending order:\n",
        "numbers.sort(reverse=True)  # Reverse is True, so it sorts in descending order\n",
        "print(numbers)  # Output: [9, 6, 5, 4, 2, 1]\n",
        "\n",
        "# 3. Sorting based on a custom key:\n",
        "# Example: Sorting strings based on their length\n",
        "words = [\"apple\", \"banana\", \"cherry\", \"kiwi\"]\n",
        "words.sort(key=len)  # Sorting by length of the words\n",
        "print(words)  # Output: ['kiwi', 'apple', 'cherry', 'banana']\n",
        "\n",
        "# Key points:\n",
        "# - The sort() method sorts the list in place and returns None.\n",
        "# - It modifies the original list.\n",
        "# - It can be customized using the reverse and key parameters.\n",
        "\n",
        "# When to use sort():\n",
        "# - When you need to sort a list in ascending or descending order.\n",
        "# - When you need to modify the original list itself.\n",
        "# - When sorting needs to be done based on a custom criterion."
      ],
      "metadata": {
        "id": "ydyeOIH83okL"
      }
    },
    {
      "cell_type": "code",
      "source": [
        "from pymongo import MongoClient\n",
        "\n",
        "client = MongoClient(\"mongodb://localhost:27017/\")\n",
        "db = client[\"my_database\"]\n",
        "collection = db[\"my_collection\"]\n",
        "\n",
        "sorted_result_asc = collection.find().sort(\"age\", 1)\n",
        "sorted_result_desc = collection.find().sort(\"age\", -1)\n",
        "\n",
        "print(\"Sorted by age (ascending):\")\n",
        "for doc in sorted_result_asc:\n",
        "    print(doc)\n",
        "\n",
        "print(\"\\nSorted by age (descending):\")\n",
        "for doc in sorted_result_desc:\n",
        "    print(doc)\n"
      ],
      "metadata": {
        "id": "FRi7xbZT4HGL"
      },
      "execution_count": null,
      "outputs": []
    },
    {
      "cell_type": "markdown",
      "source": [
        "# Q7. Explain why delete_one(), delete_many(), and drop() is used."
      ],
      "metadata": {
        "id": "OTqpMqGK4MjP"
      }
    },
    {
      "cell_type": "markdown",
      "source": [
        "delete_one(), delete_many(), and drop() in MongoDB\n",
        "---------------------------------------------------\n",
        "\n",
        "In MongoDB, **delete_one()**, **delete_many()**, and **drop()** are methods used to remove data from a collection or database. Each method serves a different purpose based on the specific requirements for deleting or dropping data.\n",
        "\n",
        "1. **delete_one()**\n",
        "   - **Purpose**: Removes a single document from a collection that matches a specified condition.\n",
        "   - **Syntax**:\n",
        "     ```python\n",
        "     db.collection.delete_one(filter)\n",
        "     ```\n",
        "     Where `filter` is the condition used to find the document you want to delete.\n",
        "   - **Use case**:\n",
        "     - If you only want to delete one document that matches a given filter or condition.\n",
        "     - Example:\n",
        "       ```python\n",
        "       db.users.delete_one({\"username\": \"john_doe\"})\n",
        "       ```\n",
        "       This will delete the first document where the `username` field is \"john_doe\".\n",
        "   - **Notes**:\n",
        "     - Even if multiple documents match the filter, only one document will be deleted.\n",
        "     - It is commonly used when you expect only one document to match or want to delete just one matching document.\n",
        "\n",
        "2. **delete_many()**\n",
        "   - **Purpose**: Removes all documents that match the specified filter.\n",
        "   - **Syntax**:\n",
        "     ```python\n",
        "     db.collection.delete_many(filter)\n",
        "     ```\n",
        "     Where `filter` defines the condition used to find documents to delete.\n",
        "   - **Use case**:\n",
        "     - If you need to delete multiple documents at once that match the condition.\n",
        "     - Example:\n",
        "       ```python\n",
        "       db.users.delete_many({\"status\": \"inactive\"})\n",
        "       ```\n",
        "       This will delete all documents where the `status` field is \"inactive\".\n",
        "   - **Notes**:\n",
        "     - If no documents match the filter, no documents will be deleted.\n",
        "     - Use this when you need to delete multiple documents that meet the same criteria.\n",
        "\n",
        "3. **drop()**\n",
        "   - **Purpose**: Removes an entire collection from the database.\n",
        "   - **Syntax**:\n",
        "     ```python\n",
        "     db.collection.drop()\n",
        "     ```\n",
        "   - **Use case**:\n",
        "     - When you want to completely delete a collection and all of its documents.\n",
        "     - Example:\n",
        "       ```python\n",
        "       db.users.drop()\n",
        "       ```\n",
        "       This will delete the entire `users` collection, including all of its documents and the collection itself.\n",
        "   - **Notes**:\n",
        "     - Use `drop()` when you want to completely remove a collection, not just individual documents.\n",
        "     - It does not require a filter, and it cannot be undone.\n"
      ],
      "metadata": {
        "id": "FrnfyeRz4q0_"
      }
    }
  ]
}