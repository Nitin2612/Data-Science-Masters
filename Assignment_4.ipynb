{
  "nbformat": 4,
  "nbformat_minor": 0,
  "metadata": {
    "colab": {
      "provenance": []
    },
    "kernelspec": {
      "name": "python3",
      "display_name": "Python 3"
    },
    "language_info": {
      "name": "python"
    }
  },
  "cells": [
    {
      "cell_type": "markdown",
      "source": [
        "#Q1.Create a python program to sort the given list of tuples based on integer value using a lambda function.\n",
        "[('Sachin Tendulkar', 34357), ('Ricky Ponting', 27483), ('Jack Kallis', 25534), ('Virat Kohli', 24936)]"
      ],
      "metadata": {
        "id": "d3txclYsOSiO"
      }
    },
    {
      "cell_type": "code",
      "source": [
        "players = [('Sachin Tendulkar', 34357), ('Ricky Ponting', 27483), ('Jack Kallis', 25534), ('Virat Kohli', 24936)]\n",
        "\n",
        "sorted_players = sorted(players, key=lambda x: x[1], reverse=True)\n",
        "\n",
        "print(\"Sorted List:\", sorted_players)"
      ],
      "metadata": {
        "colab": {
          "base_uri": "https://localhost:8080/"
        },
        "id": "SBraVXyxOkSH",
        "outputId": "c188bbb0-ec0d-44e6-d221-dcd35cc9e8e2"
      },
      "execution_count": 2,
      "outputs": [
        {
          "output_type": "stream",
          "name": "stdout",
          "text": [
            "Sorted List: [('Sachin Tendulkar', 34357), ('Ricky Ponting', 27483), ('Jack Kallis', 25534), ('Virat Kohli', 24936)]\n"
          ]
        }
      ]
    },
    {
      "cell_type": "markdown",
      "source": [
        "#Q2. Write a Python Program to find the squares of all the numbers in the given list of integers using lambda and map functions.\n",
        "[1, 2, 3, 4, 5, 6, 7, 8, 9, 10]"
      ],
      "metadata": {
        "id": "Qcyo5rNvOwjz"
      }
    },
    {
      "cell_type": "code",
      "source": [
        "numbers = [1, 2, 3, 4, 5, 6, 7, 8, 9, 10]\n",
        "\n",
        "squares = list(map(lambda x: x**2, numbers))\n",
        "\n",
        "print(\"Squares of the numbers:\", squares)"
      ],
      "metadata": {
        "colab": {
          "base_uri": "https://localhost:8080/"
        },
        "id": "Q0rY3qMqPi0L",
        "outputId": "ff641fd4-8721-4eb1-976c-d76ac1e6b3a4"
      },
      "execution_count": 3,
      "outputs": [
        {
          "output_type": "stream",
          "name": "stdout",
          "text": [
            "Squares of the numbers: [1, 4, 9, 16, 25, 36, 49, 64, 81, 100]\n"
          ]
        }
      ]
    },
    {
      "cell_type": "markdown",
      "source": [
        "#Q3. Write a python program to convert the given list of integers into a tuple of strings. Use map and lambda functions\n",
        "Given String: [1, 2, 3, 4, 5, 6, 7, 8, 9, 10]\n",
        "Expected output: ('1', '2', '3', '4', '5', '6', '7', '8', '9', '10')"
      ],
      "metadata": {
        "id": "g0ctFetWPpPJ"
      }
    },
    {
      "cell_type": "code",
      "source": [
        "numbers = [1, 2, 3, 4, 5, 6, 7, 8, 9, 10]\n",
        "\n",
        "string_tuple = tuple(map(lambda x: str(x), numbers))\n",
        "\n",
        "print(\"Converted tuple:\", string_tuple)"
      ],
      "metadata": {
        "colab": {
          "base_uri": "https://localhost:8080/"
        },
        "id": "UfC2-UAdPxqQ",
        "outputId": "9fc763c6-8c67-4308-e34c-b864fa236b00"
      },
      "execution_count": 4,
      "outputs": [
        {
          "output_type": "stream",
          "name": "stdout",
          "text": [
            "Converted tuple: ('1', '2', '3', '4', '5', '6', '7', '8', '9', '10')\n"
          ]
        }
      ]
    },
    {
      "cell_type": "markdown",
      "source": [
        "#Q4. Write a python program using reduce function to compute the product of a list containing numbers from 1 to 25."
      ],
      "metadata": {
        "id": "yF_EHpQKP7px"
      }
    },
    {
      "cell_type": "code",
      "source": [
        "from functools import reduce\n",
        "\n",
        "numbers = list(range(1, 26))\n",
        "\n",
        "product = reduce(lambda x, y: x * y, numbers)\n",
        "\n",
        "print(\"Product of numbers from 1 to 25:\", product)\n"
      ],
      "metadata": {
        "colab": {
          "base_uri": "https://localhost:8080/"
        },
        "id": "fd6mVTx3QAzL",
        "outputId": "a8464007-c20c-47da-bfc1-69a49cb36fd1"
      },
      "execution_count": 5,
      "outputs": [
        {
          "output_type": "stream",
          "name": "stdout",
          "text": [
            "Product of numbers from 1 to 25: 15511210043330985984000000\n"
          ]
        }
      ]
    },
    {
      "cell_type": "markdown",
      "source": [
        "#Q5. Write a python program to filter the numbers in a given list that are divisible by 2 and 3 using the filter function.\n",
        "[2, 3, 6, 9, 27, 60, 90, 120, 55, 46]"
      ],
      "metadata": {
        "id": "4DG3hQDZQXFt"
      }
    },
    {
      "cell_type": "code",
      "source": [
        "numbers = [2, 3, 6, 9, 27, 60, 90, 120, 55, 46]\n",
        "\n",
        "divisible_by_2_and_3 = filter(lambda x: x % 2 == 0 and x % 3 == 0, numbers)\n",
        "\n",
        "result = list(divisible_by_2_and_3)\n",
        "print(\"Numbers divisible by 2 and 3:\", result)"
      ],
      "metadata": {
        "colab": {
          "base_uri": "https://localhost:8080/"
        },
        "id": "t5IdDUMeQee7",
        "outputId": "9a1fcf70-13cb-45b0-c1be-1f69cfd3b46d"
      },
      "execution_count": 6,
      "outputs": [
        {
          "output_type": "stream",
          "name": "stdout",
          "text": [
            "Numbers divisible by 2 and 3: [6, 60, 90, 120]\n"
          ]
        }
      ]
    },
    {
      "cell_type": "markdown",
      "source": [
        "#Q6. Write a python program to find palindromes in the given list of strings using lambda and filter function.\n",
        "['python', 'php', 'aba', 'radar', 'level']"
      ],
      "metadata": {
        "id": "RAwp6icTQypl"
      }
    },
    {
      "cell_type": "code",
      "source": [
        "strings = ['python', 'php', 'aba', 'radar', 'level']\n",
        "\n",
        "palindromes = filter(lambda x: x == x[::-1], strings)\n",
        "\n",
        "result = list(palindromes)\n",
        "print(\"Palindromes in the list:\", result)"
      ],
      "metadata": {
        "colab": {
          "base_uri": "https://localhost:8080/"
        },
        "id": "m7orcjG8Qz7K",
        "outputId": "e6859d8f-a596-4438-9645-f9b45bb9c966"
      },
      "execution_count": 7,
      "outputs": [
        {
          "output_type": "stream",
          "name": "stdout",
          "text": [
            "Palindromes in the list: ['php', 'aba', 'radar', 'level']\n"
          ]
        }
      ]
    }
  ]
}