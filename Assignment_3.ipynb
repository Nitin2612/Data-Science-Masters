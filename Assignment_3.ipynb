{
  "nbformat": 4,
  "nbformat_minor": 0,
  "metadata": {
    "colab": {
      "provenance": []
    },
    "kernelspec": {
      "name": "python3",
      "display_name": "Python 3"
    },
    "language_info": {
      "name": "python"
    }
  },
  "cells": [
    {
      "cell_type": "markdown",
      "source": [
        "#Q1. Which keyword is used to create a function? Create a function to return a list of odd numbers in the range of 1 to 25.\n",
        "###In Python, the def keyword is used to define a function."
      ],
      "metadata": {
        "id": "ErfMUy21FdIk"
      }
    },
    {
      "cell_type": "code",
      "source": [
        "def get_odd_numbers():\n",
        "    odd_numbers = [i for i in range(1, 26) if i % 2 != 0]\n",
        "    return odd_numbers\n",
        "\n",
        "odd_numbers_list = get_odd_numbers()\n",
        "print(odd_numbers_list)\n"
      ],
      "metadata": {
        "colab": {
          "base_uri": "https://localhost:8080/"
        },
        "id": "XEB0Dp5JFj_F",
        "outputId": "355fbbdb-963f-4c8b-eb7c-8c454fb45bca"
      },
      "execution_count": 1,
      "outputs": [
        {
          "output_type": "stream",
          "name": "stdout",
          "text": [
            "[1, 3, 5, 7, 9, 11, 13, 15, 17, 19, 21, 23, 25]\n"
          ]
        }
      ]
    },
    {
      "cell_type": "markdown",
      "source": [
        "#Q2. Why * args and **kwargs is used in some functions? Create a function each for *args and **kwargs to demonstrate their use.\n",
        "###In Python, * args and **kwargs are used to pass a variable number of arguments to a function.\n",
        "- *args allows a function to accept any number of positional arguments as a tuple.\n",
        "- **kwargs allows a function to accept any number of keyword arguments as a dictionary."
      ],
      "metadata": {
        "id": "Ll0kkKgTF7OT"
      }
    },
    {
      "cell_type": "code",
      "source": [
        "#Using *args:\n",
        "def sum_numbers(*args):\n",
        "    total = sum(args)\n",
        "    return total\n",
        "\n",
        "print(sum_numbers(1, 2, 3))\n",
        "print(sum_numbers(5, 10, 15, 20))"
      ],
      "metadata": {
        "colab": {
          "base_uri": "https://localhost:8080/"
        },
        "id": "oNjGsL__IXrc",
        "outputId": "cffbf8c7-282d-4fa4-ac28-9a117e373eb3"
      },
      "execution_count": 2,
      "outputs": [
        {
          "output_type": "stream",
          "name": "stdout",
          "text": [
            "6\n",
            "50\n"
          ]
        }
      ]
    },
    {
      "cell_type": "code",
      "source": [
        "#Using **kwargs:\n",
        "def print_person_info(**kwargs):\n",
        "    for key, value in kwargs.items():\n",
        "        print(f\"{key}: {value}\")\n",
        "\n",
        "print_person_info(name=\"Nitin\", age=28, city=\"New Delhi\")"
      ],
      "metadata": {
        "colab": {
          "base_uri": "https://localhost:8080/"
        },
        "id": "bz8_hIIpLBlh",
        "outputId": "a760c60d-6675-4912-f100-1790634a77ab"
      },
      "execution_count": 4,
      "outputs": [
        {
          "output_type": "stream",
          "name": "stdout",
          "text": [
            "name: Nitin\n",
            "age: 28\n",
            "city: New Delhi\n"
          ]
        }
      ]
    },
    {
      "cell_type": "markdown",
      "source": [
        "#Q3. What is an iterator in python? Name the method used to initialise the iterator object and the method used for iteration. Use these methods to print the first five elements of the given list [2, 4, 6, 8, 10, 12, 14, 16, 18, 20].\n",
        "###In Python, an iterator is an object that allows you to traverse through all the elements in a collection (like a list or a tuple) one at a time. It implements two key methods:\n",
        "- __iter__(): This method is used to initialize an iterator object. It returns the iterator object itself.\n",
        "- __next__(): This method is used to iterate through the elements. It returns the next item from the collection.\n",
        " - When there are no more items to iterate over, __next__() raises a StopIteration exception to signal the end of iteration."
      ],
      "metadata": {
        "id": "QHap4Gi3LOwl"
      }
    },
    {
      "cell_type": "code",
      "source": [
        "my_list = [2, 4, 6, 8, 10, 12, 14, 16, 18, 20]\n",
        "\n",
        "# Initializing the iterator\n",
        "my_iterator = iter(my_list)\n",
        "\n",
        "for _ in range(5):\n",
        "    print(next(my_iterator))"
      ],
      "metadata": {
        "colab": {
          "base_uri": "https://localhost:8080/"
        },
        "id": "OLSP61OzLreG",
        "outputId": "904df088-29f6-487d-b7bf-6127d8aec3a8"
      },
      "execution_count": 5,
      "outputs": [
        {
          "output_type": "stream",
          "name": "stdout",
          "text": [
            "2\n",
            "4\n",
            "6\n",
            "8\n",
            "10\n"
          ]
        }
      ]
    },
    {
      "cell_type": "markdown",
      "source": [
        "#Q4. What is a generator function in python? Why yield keyword is used? Give an example of a generator function.\n",
        "\n",
        "###A generator function in Python is a special type of function that allows you to return a sequence of values one at a time, rather than computing them all at once and returning them in a list or other collection. It is defined using the def keyword, just like a regular function, but it uses the yield keyword to return values instead of return.\n",
        "\n",
        "####A generator function produces a generator object that can be iterated over (e.g., in a for loop). Unlike regular functions, which return a single value and terminate, a generator can yield multiple values one at a time, maintaining its state between calls.\n",
        "\n",
        "##Why is the yield keyword used?\n",
        "- The yield keyword is used in a generator function to produce a value and pause the function’s execution. When the generator’s __next__() method is called (e.g., using a for loop), the function resumes execution from where it was paused, continuing until it either reaches another yield or terminates.\n",
        "\n",
        "- This approach is more memory-efficient than returning a full list, as values are generated on the fly and not all stored in memory at once."
      ],
      "metadata": {
        "id": "eD29WcmyMAKy"
      }
    },
    {
      "cell_type": "code",
      "source": [
        "def square_numbers():\n",
        "    for i in range(1, 6):\n",
        "        yield i * i\n",
        "\n",
        "gen = square_numbers()\n",
        "\n",
        "for value in gen:\n",
        "    print(value)"
      ],
      "metadata": {
        "colab": {
          "base_uri": "https://localhost:8080/"
        },
        "id": "eFqhSB6oMWSK",
        "outputId": "0585eace-a809-44c6-f67c-b53f8af54b3f"
      },
      "execution_count": 6,
      "outputs": [
        {
          "output_type": "stream",
          "name": "stdout",
          "text": [
            "1\n",
            "4\n",
            "9\n",
            "16\n",
            "25\n"
          ]
        }
      ]
    },
    {
      "cell_type": "markdown",
      "source": [
        "#Q5. Create a generator function for prime numbers less than 1000. Use the next() method to print the first 20 prime numbers."
      ],
      "metadata": {
        "id": "DgC2m0KGMvtu"
      }
    },
    {
      "cell_type": "code",
      "source": [
        "def is_prime(num):\n",
        "    \"\"\"Check if a number is prime.\"\"\"\n",
        "    if num < 2:\n",
        "        return False\n",
        "    for i in range(2, int(num ** 0.5) + 1):\n",
        "        if num % i == 0:\n",
        "            return False\n",
        "    return True\n",
        "\n",
        "def prime_generator(limit):\n",
        "    \"\"\"Generate prime numbers less than the given limit.\"\"\"\n",
        "    num = 2\n",
        "    while num < limit:\n",
        "        if is_prime(num):\n",
        "            yield num\n",
        "        num += 1\n",
        "\n",
        "prime_gen = prime_generator(1000)\n",
        "\n",
        "for _ in range(20):\n",
        "    print(next(prime_gen))\n"
      ],
      "metadata": {
        "colab": {
          "base_uri": "https://localhost:8080/"
        },
        "id": "Ij5AHacpNDwC",
        "outputId": "84cd00a9-2610-46a2-cd41-24de9950036f"
      },
      "execution_count": 7,
      "outputs": [
        {
          "output_type": "stream",
          "name": "stdout",
          "text": [
            "2\n",
            "3\n",
            "5\n",
            "7\n",
            "11\n",
            "13\n",
            "17\n",
            "19\n",
            "23\n",
            "29\n",
            "31\n",
            "37\n",
            "41\n",
            "43\n",
            "47\n",
            "53\n",
            "59\n",
            "61\n",
            "67\n",
            "71\n"
          ]
        }
      ]
    }
  ]
}