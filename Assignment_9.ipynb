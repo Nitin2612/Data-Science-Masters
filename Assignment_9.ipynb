{
  "nbformat": 4,
  "nbformat_minor": 0,
  "metadata": {
    "colab": {
      "provenance": []
    },
    "kernelspec": {
      "name": "python3",
      "display_name": "Python 3"
    },
    "language_info": {
      "name": "python"
    }
  },
  "cells": [
    {
      "cell_type": "markdown",
      "source": [
        "#Q1. What is multithreading in python? Why is it used? Name the module used to handle threads in python.\n",
        "\n",
        "###Multithreading is the ability of a program to run multiple threads concurrently. A thread is the smallest unit of a process that can be scheduled and executed.\n",
        "- In Python, multithreading allows a program to perform multiple operations simultaneously within the same process.\n",
        "\n",
        "##Why is Multithreading Used?\n",
        "- concurrency: Multithreading enables concurrent execution, which is useful for tasks like I/O-bound operations (e.g., reading files, making network requests).\n",
        "- Improved Responsiveness: It enhances the responsiveness of applications. For instance, in GUI applications, threads can handle user input while performing background tasks.\n",
        "- Efficient Resource Utilization: Threads share the same memory space, making them lightweight compared to creating separate processes.\n",
        "- Real-time Performance: Multithreading is ideal for real-time tasks like games, multimedia applications, or handling multiple clients in a server.\n",
        "\n",
        "##Module Used to Handle Threads in Python\n",
        "- The threading module is used to create and manage threads in Python.\n"
      ],
      "metadata": {
        "id": "HobNONvtSK3X"
      }
    },
    {
      "cell_type": "code",
      "source": [
        "#Example:\n",
        "import threading\n",
        "import time\n",
        "\n",
        "def print_numbers():\n",
        "    for i in range(5):\n",
        "        print(f\"Number: {i}\")\n",
        "        time.sleep(1)\n",
        "\n",
        "def print_letters():\n",
        "    for letter in ['A', 'B', 'C', 'D', 'E']:\n",
        "        print(f\"Letter: {letter}\")\n",
        "        time.sleep(1)\n",
        "\n",
        "thread1 = threading.Thread(target=print_numbers)\n",
        "thread2 = threading.Thread(target=print_letters)\n",
        "\n",
        "thread1.start()\n",
        "thread2.start()\n",
        "\n",
        "thread1.join()\n",
        "thread2.join()\n",
        "\n",
        "print(\"Threads finished execution!\")\n"
      ],
      "metadata": {
        "colab": {
          "base_uri": "https://localhost:8080/"
        },
        "id": "SbM22VoTSvGA",
        "outputId": "343a9866-4518-4ddf-c3a9-b6cb1bccb15f"
      },
      "execution_count": null,
      "outputs": [
        {
          "output_type": "stream",
          "name": "stdout",
          "text": [
            "Number: 0\n",
            "Letter: A\n",
            "Number: 1\n",
            "Letter: B\n",
            "Number: 2\n",
            "Letter: C\n",
            "Number: 3\n",
            "Letter: D\n",
            "Letter: E\n",
            "Number: 4\n",
            "Threads finished execution!\n"
          ]
        }
      ]
    },
    {
      "cell_type": "markdown",
      "source": [
        "#Q2. Why threading module used? Write the use of the following functions\n",
        "1. activeCount( )\n",
        "2. currentThread()\n",
        "3. enumerate()\n",
        "\n",
        "###The threading module in Python is used to create and manage threads in a program. It enables the implementation of multithreading, allowing multiple threads to execute concurrently. This is particularly useful for:\n",
        "- Concurrency: Performing multiple tasks simultaneously.\n",
        "- Efficient I/O Operations: Ideal for I/O-bound tasks like file operations, network requests, and database queries.\n",
        "- Improved Responsiveness: Keeps applications responsive, such as in GUI-based programs.\n",
        "- Resource Sharing: Threads share the same memory space, making them lightweight.\n",
        "\n",
        "##1. activeCount()\n",
        "- Purpose: Returns the number of threads currently active.\n",
        "- Use: Useful for monitoring the number of threads running at a given time.\n",
        "\n",
        "##2. currentThread()\n",
        "- Purpose: Returns the Thread object corresponding to the currently executing thread.\n",
        "- Use: Useful for identifying which thread is running a particular block of code.\n",
        "\n",
        "##3. enumerate()\n",
        "- Purpose: Returns a list of all currently active Thread objects.\n",
        "- Use: Useful for debugging and inspecting all running threads.\n",
        "\n"
      ],
      "metadata": {
        "id": "OpQ5qm-9S1Gu"
      }
    },
    {
      "cell_type": "code",
      "source": [
        "#Example:\n",
        "import threading\n",
        "import time\n",
        "\n",
        "def example_function():\n",
        "    time.sleep(2)\n",
        "\n",
        "thread1 = threading.Thread(target=example_function, name=\"Thread-1\")\n",
        "thread2 = threading.Thread(target=example_function, name=\"Thread-2\")\n",
        "\n",
        "thread1.start()\n",
        "thread2.start()\n",
        "\n",
        "threads = threading.enumerate()\n",
        "print(\"Active Threads:\")\n",
        "for t in threads:\n",
        "    print(f\"Thread Name: {t.name}\")\n"
      ],
      "metadata": {
        "colab": {
          "base_uri": "https://localhost:8080/"
        },
        "id": "3gr1ds-oTVL-",
        "outputId": "744e489a-74c5-4a7e-9a2c-1d62f6d78922"
      },
      "execution_count": null,
      "outputs": [
        {
          "output_type": "stream",
          "name": "stdout",
          "text": [
            "Active Threads:\n",
            "Thread Name: MainThread\n",
            "Thread Name: Thread-2 (_thread_main)\n",
            "Thread Name: Thread-3\n",
            "Thread Name: Thread-1\n",
            "Thread Name: _colab_inspector_thread\n",
            "Thread Name: Thread-1\n",
            "Thread Name: Thread-2\n"
          ]
        }
      ]
    },
    {
      "cell_type": "markdown",
      "source": [
        "#Q3. Explain the following functions\n",
        "1. run()\n",
        "2. start()\n",
        "3. join()\n",
        "4. isAlive()\n",
        "\n",
        "###1. run()\n",
        "- Purpose: The run() method defines the code that will be executed by the thread. When a thread is started using the start() method, it automatically calls the run() method.\n",
        "- Usage: This method is often overridden when creating custom thread classes (subclassing Thread) to define the task to be executed by that thread.\n",
        "\n",
        "###2. start()\n",
        "- Purpose: The start() method is used to begin the thread's execution. It initiates the thread and calls the run() method internally. A thread can only be started once.\n",
        "- Usage: After calling the start(), the thread executes concurrently, allowing multiple threads to run simultaneously.\n",
        "\n",
        "###3. join()\n",
        "- Purpose: The join() method is used to wait for the thread to complete. It blocks the calling thread (usually the main thread) until the thread on which it is called has finished executing.\n",
        "- Usage: This is useful when the main program wants to wait for one or more threads to finish before continuing.\n",
        "\n",
        "###4. isAlive()\n",
        "- Purpose: The isAlive() method checks if the thread is still alive (running). It returns True if the thread is active, and False if the thread has completed its execution or has not been started yet.\n",
        "- Usage: Useful for checking if a thread is still running before performing some action or for debugging."
      ],
      "metadata": {
        "id": "M0UxgPmwTz--"
      }
    },
    {
      "cell_type": "code",
      "source": [
        "#Example: run()\n",
        "import threading\n",
        "\n",
        "class MyThread(threading.Thread):\n",
        "    def run(self):\n",
        "        print(\"Thread is running!\")\n",
        "\n",
        "thread = MyThread()\n",
        "thread.start()\n"
      ],
      "metadata": {
        "colab": {
          "base_uri": "https://localhost:8080/"
        },
        "id": "FfYzDunbUnKZ",
        "outputId": "37ffa888-605c-4ee2-f735-0b8f34348b75"
      },
      "execution_count": null,
      "outputs": [
        {
          "output_type": "stream",
          "name": "stdout",
          "text": [
            "Thread is running!\n"
          ]
        }
      ]
    },
    {
      "cell_type": "code",
      "source": [
        "#Example: start()\n",
        "import threading\n",
        "import time\n",
        "\n",
        "def thread_task():\n",
        "    time.sleep(2)\n",
        "    print(\"Thread finished!\")\n",
        "\n",
        "thread = threading.Thread(target=thread_task)\n",
        "\n",
        "thread.start()\n",
        "\n",
        "print(\"Main thread continues while child thread runs.\")\n"
      ],
      "metadata": {
        "colab": {
          "base_uri": "https://localhost:8080/"
        },
        "id": "Ap0bhfaEU2A3",
        "outputId": "ce067513-76c3-4cc2-bcad-961430cb2d3d"
      },
      "execution_count": null,
      "outputs": [
        {
          "output_type": "stream",
          "name": "stdout",
          "text": [
            "Main thread continues while child thread runs.\n"
          ]
        }
      ]
    },
    {
      "cell_type": "code",
      "source": [
        "#Example: join()\n",
        "import threading\n",
        "import time\n",
        "\n",
        "def thread_task():\n",
        "    time.sleep(2)\n",
        "    print(\"Thread finished!\")\n",
        "\n",
        "thread = threading.Thread(target=thread_task)\n",
        "thread.start()\n",
        "\n",
        "thread.join()\n",
        "\n",
        "print(\"Main thread continues after thread completion.\")\n"
      ],
      "metadata": {
        "colab": {
          "base_uri": "https://localhost:8080/"
        },
        "id": "MQeNQopwVH3m",
        "outputId": "b1a0ac27-3f12-42b9-e2ff-fe6bcb17f7c7"
      },
      "execution_count": null,
      "outputs": [
        {
          "output_type": "stream",
          "name": "stdout",
          "text": [
            "Thread finished!\n",
            "Main thread continues after thread completion.\n"
          ]
        }
      ]
    },
    {
      "cell_type": "code",
      "source": [
        "#Example: isAlive()\n",
        "import threading\n",
        "import time\n",
        "\n",
        "def thread_task():\n",
        "    time.sleep(2)\n",
        "    print(\"Thread finished!\")\n",
        "\n",
        "thread = threading.Thread(target=thread_task)\n",
        "thread.start()\n",
        "\n",
        "print(f\"Is the thread alive? {thread.isAlive()}\")\n",
        "\n",
        "thread.join()\n",
        "\n",
        "print(f\"Is the thread alive? {thread.isAlive()}\")\n"
      ],
      "metadata": {
        "id": "Lx5P3SHAVcL9"
      },
      "execution_count": null,
      "outputs": []
    },
    {
      "cell_type": "markdown",
      "source": [
        "#Q4. Write a python program to create two threads. Thread one must print the list of squares and thread two must print the list of cubes.\n"
      ],
      "metadata": {
        "id": "c9aYK8MSV0rS"
      }
    },
    {
      "cell_type": "code",
      "source": [
        "import threading\n",
        "\n",
        "def print_squares():\n",
        "    squares = [x**2 for x in range(1, 11)]\n",
        "    print(\"Squares:\", squares)\n",
        "\n",
        "def print_cubes():\n",
        "    cubes = [x**3 for x in range(1, 11)]\n",
        "    print(\"Cubes:\", cubes)\n",
        "\n",
        "thread1 = threading.Thread(target=print_squares)\n",
        "thread2 = threading.Thread(target=print_cubes)\n",
        "\n",
        "thread1.start()\n",
        "thread2.start()\n",
        "\n",
        "thread1.join()\n",
        "thread2.join()\n",
        "\n",
        "print(\"Both threads have finished execution.\")\n"
      ],
      "metadata": {
        "colab": {
          "base_uri": "https://localhost:8080/"
        },
        "id": "rOGafGKDV_XP",
        "outputId": "7764076c-4520-44d7-a9bb-a86a8bb6cf7c"
      },
      "execution_count": 7,
      "outputs": [
        {
          "output_type": "stream",
          "name": "stdout",
          "text": [
            "Squares: [1, 4, 9, 16, 25, 36, 49, 64, 81, 100]\n",
            "Cubes: [1, 8, 27, 64, 125, 216, 343, 512, 729, 1000]\n",
            "Both threads have finished execution.\n"
          ]
        }
      ]
    },
    {
      "cell_type": "markdown",
      "source": [
        "#Q5. State advantages and disadvantages of multithreading.\n",
        "\n",
        "##Advantages of Multithreading:\n",
        "\n",
        "###Improved Performance:\n",
        "- Multithreading can enhance the performance of CPU-bound tasks by utilizing multiple processors or cores to perform different parts of a task concurrently.\n",
        "- It is particularly useful in applications that require performing multiple operations simultaneously, such as background tasks while the main thread handles user interactions.\n",
        "\n",
        "###Better Resource Utilization:\n",
        "- Multithreading allows the efficient use of system resources (such as CPU), as threads can run independently and in parallel, reducing idle time for the processor.\n",
        "\n",
        "###Responsiveness:\n",
        "- Applications that involve user interaction can be more responsive. For instance, a user interface (UI) thread can continue to respond to user inputs while other threads handle background operations (like data fetching or processing).\n",
        "\n",
        "###Asynchronous Processing:\n",
        "- With multithreading, tasks like downloading files, network communication, or database operations can be handled asynchronously, allowing the application to perform other tasks while waiting for results.\n",
        "\n",
        "###Concurrent Task Execution:\n",
        "- Multithreading enables tasks that would normally have to wait for each other (synchronous tasks) to execute concurrently, improving overall task completion time.\n",
        "\n",
        "##Disadvantages of Multithreading:\n",
        "\n",
        "###Complexity in Programming:\n",
        "- Writing and debugging multithreaded programs can be more complex than single-threaded programs, due to the need for synchronization and ensuring thread safety.\n",
        "\n",
        "###Concurrency Issues:\n",
        "- Multithreaded applications may face issues such as race conditions, deadlocks, and resource conflicts, where two or more threads try to access shared resources simultaneously, leading to unpredictable behavior or crashes.\n",
        "\n",
        "###Overhead:\n",
        "- Creating and managing threads has an overhead in terms of memory and processing power. For tasks that are not CPU-bound, the overhead of creating multiple threads may not justify the benefits.\n",
        "\n",
        "###Difficulty in Testing and Debugging:\n",
        "- Debugging multithreaded programs is challenging because of the non-deterministic nature of thread execution. Issues like deadlocks or race conditions might only occur under specific timing conditions, making them difficult to reproduce during testing.\n",
        "\n",
        "###Thread Management and Synchronization:\n",
        "- Managing multiple threads and ensuring proper synchronization (using mechanisms like locks, semaphores, etc.) can introduce additional complexity. Improper synchronization can lead to bugs, such as data corruption or inconsistent results."
      ],
      "metadata": {
        "id": "HM3P1s3sWFFz"
      }
    },
    {
      "cell_type": "markdown",
      "source": [
        "#Q6. Explain deadlocks and race conditions.\n",
        "\n",
        "###Deadlocks and Race Conditions are common issues that can arise in multithreaded programming, and both can lead to undesirable behaviors, such as program crashes or inconsistent results.\n",
        "\n",
        "##1. Deadlocks\n",
        "- Definition:A deadlock occurs when two or more threads are blocked forever because they are waiting for each other to release resources that they hold. In simple terms, it's a situation where threads are stuck in a cycle, each waiting on the other to finish its execution, leading to a standstill.\n",
        "\n",
        "###Conditions for Deadlock (The Coffman Conditions):\n",
        "For a deadlock to occur, the following four conditions must hold simultaneously:\n",
        "- Mutual Exclusion: Resources are shared among threads, but only one thread can access a resource at a time.\n",
        "- Hold and Wait: A thread holding one resource is waiting to acquire additional resources held by other threads.\n",
        "- No Preemption: Resources cannot be forcibly taken away from a thread. They must be released voluntarily.\n",
        "- Circular Wait: A cycle of threads exists where each thread is waiting for a resource held by the next thread in the cycle.\n",
        "\n",
        "##2. Race Conditions\n",
        "- Definition: A race condition occurs when two or more threads access shared data concurrently, and at least one of the threads modifies the data. The final outcome depends on the non-deterministic order of execution of the threads, which can lead to inconsistent or unpredictable results."
      ],
      "metadata": {
        "id": "Az9_YzGeWvMf"
      }
    }
  ]
}