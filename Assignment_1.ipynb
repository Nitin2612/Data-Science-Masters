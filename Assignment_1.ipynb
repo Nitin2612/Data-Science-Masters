{
  "nbformat": 4,
  "nbformat_minor": 0,
  "metadata": {
    "colab": {
      "provenance": []
    },
    "kernelspec": {
      "name": "python3",
      "display_name": "Python 3"
    },
    "language_info": {
      "name": "python"
    }
  },
  "cells": [
    {
      "cell_type": "markdown",
      "source": [
        "#Q.1: Create one variable containing following type of data:\n",
        "##(i) string\n",
        "##(ii) list\n",
        "##(iii) float\n",
        "##(iv) tuple"
      ],
      "metadata": {
        "id": "hp88X08-Xizd"
      }
    },
    {
      "cell_type": "code",
      "execution_count": 1,
      "metadata": {
        "colab": {
          "base_uri": "https://localhost:8080/"
        },
        "id": "0i-5nMKLXczo",
        "outputId": "90e53788-a281-45e2-c262-dcf1a937d79b"
      },
      "outputs": [
        {
          "output_type": "stream",
          "name": "stdout",
          "text": [
            "['Hello, World!', [1, 2, 3, 4, 5], 3.14, (True, False, 'Yes', 'No')]\n"
          ]
        }
      ],
      "source": [
        "mixed_variable = [\n",
        "    \"Hello, World!\",\n",
        "    [1, 2, 3, 4, 5],\n",
        "    3.14,\n",
        "    (True, False, \"Yes\", \"No\")\n",
        "]\n",
        "\n",
        "print(mixed_variable)"
      ]
    },
    {
      "cell_type": "markdown",
      "source": [
        "#Q2. Given are some following variables containing data:\n",
        "##(i) var1 = ‘ ‘\n",
        "##(ii) var2 = ‘[ DS , ML , Python]’\n",
        "##(iii) var3 = [ ‘DS’ , ’ML’ , ‘Python’ ]\n",
        "##(iv) var4 = 1."
      ],
      "metadata": {
        "id": "mnG5i9SRX6ou"
      }
    },
    {
      "cell_type": "code",
      "source": [
        "var1 = ' '\n",
        "var2 = '[ DS , ML , Python]'\n",
        "var3 = ['DS', 'ML', 'Python']\n",
        "var4 = 1.0\n",
        "print(type(var1))\n",
        "print(type(var2))\n",
        "print(type(var3))\n",
        "print(type(var4))\n"
      ],
      "metadata": {
        "colab": {
          "base_uri": "https://localhost:8080/"
        },
        "id": "oTPXw39AYFVi",
        "outputId": "29c3af60-3da6-4553-96e1-d640156ebceb"
      },
      "execution_count": 2,
      "outputs": [
        {
          "output_type": "stream",
          "name": "stdout",
          "text": [
            "<class 'str'>\n",
            "<class 'str'>\n",
            "<class 'list'>\n",
            "<class 'float'>\n"
          ]
        }
      ]
    },
    {
      "cell_type": "markdown",
      "source": [
        "#Q3. Explain the use of the following operators using an example:\n",
        "##(i) /\n",
        "##(ii) %\n",
        "##(iii) //\n",
        "##(iv) **"
      ],
      "metadata": {
        "id": "nWlLIIA9Yn3U"
      }
    },
    {
      "cell_type": "code",
      "source": [
        "result = 10 / 3\n",
        "remainder = 10 % 3\n",
        "quotient = 10 // 3\n",
        "power = 2 ** 3\n",
        "\n",
        "print(\"Division (/):\", result)\n",
        "print(\"Modulo (%):\", remainder)\n",
        "print(\"Floor Division (//):\", quotient)\n",
        "print(\"Exponentiation (**):\", power)"
      ],
      "metadata": {
        "colab": {
          "base_uri": "https://localhost:8080/"
        },
        "id": "izfARKBQZCoN",
        "outputId": "362b9425-bb88-469b-f7d5-d81a4c3c3c85"
      },
      "execution_count": 3,
      "outputs": [
        {
          "output_type": "stream",
          "name": "stdout",
          "text": [
            "Division (/): 3.3333333333333335\n",
            "Modulo (%): 1\n",
            "Floor Division (//): 3\n",
            "Exponentiation (**): 8\n"
          ]
        }
      ]
    },
    {
      "cell_type": "markdown",
      "source": [
        "#Q4. Create a list of length 10 of your choice containing multiple types of data. Using for loop print the element and its data type."
      ],
      "metadata": {
        "id": "N58ZUZ28ZUOQ"
      }
    },
    {
      "cell_type": "code",
      "source": [
        "my_list = [10, \"Hello\", 3.14, True, [1, 2, 3], {'name': 'John'}, None, 42, 5+3j, b'bytes']\n",
        "\n",
        "for element in my_list:\n",
        "    print(f\"Element: {element}, Data Type: {type(element)}\")\n",
        ""
      ],
      "metadata": {
        "colab": {
          "base_uri": "https://localhost:8080/"
        },
        "id": "3WMJI3DqZj1u",
        "outputId": "bebd8ec6-ed60-4078-d684-780a538d1a27"
      },
      "execution_count": 4,
      "outputs": [
        {
          "output_type": "stream",
          "name": "stdout",
          "text": [
            "Element: 10, Data Type: <class 'int'>\n",
            "Element: Hello, Data Type: <class 'str'>\n",
            "Element: 3.14, Data Type: <class 'float'>\n",
            "Element: True, Data Type: <class 'bool'>\n",
            "Element: [1, 2, 3], Data Type: <class 'list'>\n",
            "Element: {'name': 'John'}, Data Type: <class 'dict'>\n",
            "Element: None, Data Type: <class 'NoneType'>\n",
            "Element: 42, Data Type: <class 'int'>\n",
            "Element: (5+3j), Data Type: <class 'complex'>\n",
            "Element: b'bytes', Data Type: <class 'bytes'>\n"
          ]
        }
      ]
    },
    {
      "cell_type": "markdown",
      "source": [
        "#Q5. Using a while loop, verify if the number A is purely divisible by number B and if so then how many times it can be divisible."
      ],
      "metadata": {
        "id": "UOMVu5EXaHEO"
      }
    },
    {
      "cell_type": "code",
      "source": [
        "A = 10\n",
        "B = 5\n",
        "count = 0\n",
        "\n",
        "while A % B == 0 and A != 0:\n",
        "    A = A // B\n",
        "    count += 1\n",
        "\n",
        "if count > 0:\n",
        "    print(f\"The number can be divided {count} times.\")\n",
        "else:\n",
        "    print(f\"{100} is not divisible by {5}.\")"
      ],
      "metadata": {
        "colab": {
          "base_uri": "https://localhost:8080/"
        },
        "id": "iC7_8Q7uaJ9l",
        "outputId": "5a208c9f-757f-4f40-b58c-994687c4edbf"
      },
      "execution_count": 8,
      "outputs": [
        {
          "output_type": "stream",
          "name": "stdout",
          "text": [
            "The number can be divided 1 times.\n"
          ]
        }
      ]
    },
    {
      "cell_type": "markdown",
      "source": [
        "#Q6. Create a list containing 25 int type data. Using for loop and if-else condition print if the element is divisible by 3 or not."
      ],
      "metadata": {
        "id": "BBd9pQrZbD69"
      }
    },
    {
      "cell_type": "code",
      "source": [
        "my_list = [10, 15, 22, 33, 44, 55, 63, 72, 81, 90, 100, 105, 120, 125, 135, 150, 160, 170, 180, 190, 200, 210, 222, 240, 250]\n",
        "\n",
        "for element in my_list:\n",
        "    if element % 3 == 0:\n",
        "        print(f\"{element} is divisible by 3\")\n",
        "    else:\n",
        "        print(f\"{element} is not divisible by 3\")"
      ],
      "metadata": {
        "colab": {
          "base_uri": "https://localhost:8080/"
        },
        "id": "z_YqmK2FbUHa",
        "outputId": "9b5f8a2b-1aab-4481-ba59-964d5b0b2e41"
      },
      "execution_count": 9,
      "outputs": [
        {
          "output_type": "stream",
          "name": "stdout",
          "text": [
            "10 is not divisible by 3\n",
            "15 is divisible by 3\n",
            "22 is not divisible by 3\n",
            "33 is divisible by 3\n",
            "44 is not divisible by 3\n",
            "55 is not divisible by 3\n",
            "63 is divisible by 3\n",
            "72 is divisible by 3\n",
            "81 is divisible by 3\n",
            "90 is divisible by 3\n",
            "100 is not divisible by 3\n",
            "105 is divisible by 3\n",
            "120 is divisible by 3\n",
            "125 is not divisible by 3\n",
            "135 is divisible by 3\n",
            "150 is divisible by 3\n",
            "160 is not divisible by 3\n",
            "170 is not divisible by 3\n",
            "180 is divisible by 3\n",
            "190 is not divisible by 3\n",
            "200 is not divisible by 3\n",
            "210 is divisible by 3\n",
            "222 is divisible by 3\n",
            "240 is divisible by 3\n",
            "250 is not divisible by 3\n"
          ]
        }
      ]
    },
    {
      "cell_type": "markdown",
      "source": [
        "#Q7. What do you understand about mutable and immutable data types? Give examples for both showing this property.\n",
        "##Mutable Data Types:\n",
        "\n",
        "- Mutable data types are those whose values can be changed or modified after they are created. The objects themselves can be updated in place.\n",
        "-- Examples: Lists, Dictionaries, Sets\n",
        "Key Property: The contents of mutable objects can be changed without creating a new object.\n",
        "##Immutable Data Types:\n",
        "\n",
        "- Immutable data types are those whose values cannot be changed after they are created. Any modification creates a new object, leaving the original unchanged.\n",
        "-- Examples: Tuples, Strings, Integers\n",
        "Key Property: Once created, the value of immutable objects cannot be changed directly.\n"
      ],
      "metadata": {
        "id": "kGwZJQXzbi7D"
      }
    },
    {
      "cell_type": "code",
      "source": [
        "mutable_list = [1, 2, 3]\n",
        "print(\"Original Mutable List:\", mutable_list)\n",
        "mutable_list[0] = 99\n",
        "print(\"Modified Mutable List:\", mutable_list)\n",
        "\n",
        "\n",
        "immutable_tuple = (1, 2, 3)\n",
        "print(\"Original Immutable Tuple:\", immutable_tuple)\n",
        "try:\n",
        "    immutable_tuple[0] = 99\n",
        "except TypeError as e:\n",
        "    print(\"Error when modifying tuple:\", e)"
      ],
      "metadata": {
        "colab": {
          "base_uri": "https://localhost:8080/"
        },
        "id": "WZSxnCFLbuQT",
        "outputId": "d4cc541e-739a-4e30-8b97-ef0966ca7b89"
      },
      "execution_count": 10,
      "outputs": [
        {
          "output_type": "stream",
          "name": "stdout",
          "text": [
            "Original Mutable List: [1, 2, 3]\n",
            "Modified Mutable List: [99, 2, 3]\n",
            "Original Immutable Tuple: (1, 2, 3)\n",
            "Error when modifying tuple: 'tuple' object does not support item assignment\n"
          ]
        }
      ]
    }
  ]
}