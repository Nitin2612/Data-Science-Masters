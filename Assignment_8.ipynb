{
  "nbformat": 4,
  "nbformat_minor": 0,
  "metadata": {
    "colab": {
      "provenance": []
    },
    "kernelspec": {
      "name": "python3",
      "display_name": "Python 3"
    },
    "language_info": {
      "name": "python"
    }
  },
  "cells": [
    {
      "cell_type": "markdown",
      "source": [
        "#Q1. Explain why we have to use the Exception class while creating a Custom Exception.\n",
        "Note: Here Exception class refers to the base class for all the exceptions.\n",
        "###When creating a custom exception in Python, it is essential to inherit from the built-in Exception class because it serves as the base class for all standard exceptions. By doing so, your custom exception becomes compatible with Python's exception-handling mechanisms.\n",
        "\n",
        "##1. Standard Exception Handling Mechanism\n",
        "- Python’s exception-handling mechanism (try-except blocks) is designed to work with exceptions derived from the BaseException hierarchy.\n",
        "- Inheriting from the Exception class ensures that your custom exception integrates seamlessly with this mechanism.\n",
        "\n",
        "##2. Consistency and Readability\n",
        "- By inheriting from the Exception class, your custom exceptions follow Python's standard structure for exceptions, making your code easier to understand and maintain.\n",
        "\n",
        "##3. Access to Exception Methods and Attributes\n",
        "- The Exception class provides useful attributes such as args and methods like __str__ to display error messages.\n",
        "- By inheriting from Exception, you can use or override these methods to customize the behavior of your custom exception.\n",
        "\n",
        "##4. Allows Catching with General Exceptions\n",
        "- Custom exceptions derived from Exception can be caught using generic except Exception: blocks.\n",
        "- This ensures that your custom exceptions are not missed in broader exception handling.\n",
        "\n",
        "##5. Encourages Best Practices\n",
        "- Python encourages using the Exception class for custom exceptions to align with established design principles and avoid potential misuse of the exception system.\n"
      ],
      "metadata": {
        "id": "oPxfFcS3-Mpj"
      }
    },
    {
      "cell_type": "code",
      "source": [
        "#Example:\n",
        "class CustomError(Exception):\n",
        "    def __init__(self, message=\"This is a custom error\"):\n",
        "        self.message = message\n",
        "        super().__init__(self.message)\n",
        "\n",
        "try:\n",
        "    raise CustomError(\"Something went wrong!\")\n",
        "except CustomError as e:\n",
        "    print(f\"Caught: {e}\")"
      ],
      "metadata": {
        "colab": {
          "base_uri": "https://localhost:8080/"
        },
        "id": "yADzBO_e_HZb",
        "outputId": "660c2362-f2b5-447f-c0bf-01e9fbc87af2"
      },
      "execution_count": 1,
      "outputs": [
        {
          "output_type": "stream",
          "name": "stdout",
          "text": [
            "Caught: Something went wrong!\n"
          ]
        }
      ]
    },
    {
      "cell_type": "markdown",
      "source": [
        "#Q2. Write a python program to print Python Exception Hierarchy."
      ],
      "metadata": {
        "id": "u7CizSD5_vfB"
      }
    },
    {
      "cell_type": "code",
      "source": [
        "import inspect\n",
        "def print_exception_hierarchy(cls, indent=0):\n",
        "    print(\" \" * indent + cls.__name__)\n",
        "    for subclass in cls.__subclasses__():\n",
        "        print_exception_hierarchy(subclass, indent + 4)\n",
        "\n",
        "print(\"Python Exception Hierarchy:\")\n",
        "print_exception_hierarchy(BaseException)"
      ],
      "metadata": {
        "colab": {
          "base_uri": "https://localhost:8080/"
        },
        "id": "Dtu1FPva_zIP",
        "outputId": "92d4651a-e123-427e-c880-5f1e29169ae1"
      },
      "execution_count": 2,
      "outputs": [
        {
          "output_type": "stream",
          "name": "stdout",
          "text": [
            "Python Exception Hierarchy:\n",
            "BaseException\n",
            "    Exception\n",
            "        TypeError\n",
            "            MultipartConversionError\n",
            "            FloatOperation\n",
            "            DTypePromotionError\n",
            "            UFuncTypeError\n",
            "                UFuncTypeError\n",
            "                    UFuncTypeError\n",
            "                UFuncTypeError\n",
            "                    UFuncTypeError\n",
            "                    UFuncTypeError\n",
            "            ConversionError\n",
            "        StopAsyncIteration\n",
            "        StopIteration\n",
            "        ImportError\n",
            "            ModuleNotFoundError\n",
            "                PackageNotFoundError\n",
            "                PackageNotFoundError\n",
            "            ZipImportError\n",
            "        OSError\n",
            "            ConnectionError\n",
            "                BrokenPipeError\n",
            "                ConnectionAbortedError\n",
            "                ConnectionRefusedError\n",
            "                ConnectionResetError\n",
            "                    RemoteDisconnected\n",
            "            BlockingIOError\n",
            "            ChildProcessError\n",
            "            FileExistsError\n",
            "            FileNotFoundError\n",
            "                ExecutableNotFoundError\n",
            "            IsADirectoryError\n",
            "            NotADirectoryError\n",
            "            InterruptedError\n",
            "                InterruptedSystemCall\n",
            "            PermissionError\n",
            "            ProcessLookupError\n",
            "            TimeoutError\n",
            "            UnsupportedOperation\n",
            "            itimer_error\n",
            "            Error\n",
            "                SameFileError\n",
            "            SpecialFileError\n",
            "            ExecError\n",
            "            ReadError\n",
            "            herror\n",
            "            gaierror\n",
            "            SSLError\n",
            "                SSLCertVerificationError\n",
            "                SSLZeroReturnError\n",
            "                SSLWantWriteError\n",
            "                SSLWantReadError\n",
            "                SSLSyscallError\n",
            "                SSLEOFError\n",
            "            URLError\n",
            "                HTTPError\n",
            "                ContentTooShortError\n",
            "            UnidentifiedImageError\n",
            "            BadGzipFile\n",
            "            ProxyError\n",
            "                GeneralProxyError\n",
            "                ProxyConnectionError\n",
            "                SOCKS5AuthError\n",
            "                SOCKS5Error\n",
            "                SOCKS4Error\n",
            "                HTTPError\n",
            "        EOFError\n",
            "            IncompleteReadError\n",
            "        RuntimeError\n",
            "            RecursionError\n",
            "            NotImplementedError\n",
            "                StdinNotImplementedError\n",
            "                ZMQVersionError\n",
            "            _DeadlockError\n",
            "            BrokenBarrierError\n",
            "            BrokenExecutor\n",
            "                BrokenThreadPool\n",
            "            SendfileNotAvailableError\n",
            "            RemovedCommandError\n",
            "            PackageDiscoveryError\n",
            "            TooHardError\n",
            "            VariableError\n",
            "        NameError\n",
            "            UnboundLocalError\n",
            "        AttributeError\n",
            "            FrozenInstanceError\n",
            "        SyntaxError\n",
            "            IndentationError\n",
            "                TabError\n",
            "            ParseError\n",
            "        LookupError\n",
            "            IndexError\n",
            "                AxisError\n",
            "                OutOfBounds\n",
            "            KeyError\n",
            "                UnknownBackend\n",
            "                NoSuchKernel\n",
            "            CodecRegistryError\n",
            "        ValueError\n",
            "            UnicodeError\n",
            "                UnicodeEncodeError\n",
            "                UnicodeDecodeError\n",
            "                UnicodeTranslateError\n",
            "            UnsupportedOperation\n",
            "            JSONDecodeError\n",
            "            UnsupportedDigestmodError\n",
            "            Error\n",
            "            IllegalMonthError\n",
            "            IllegalWeekdayError\n",
            "            MessageDefect\n",
            "                NoBoundaryInMultipartDefect\n",
            "                StartBoundaryNotFoundDefect\n",
            "                CloseBoundaryNotFoundDefect\n",
            "                FirstHeaderLineIsContinuationDefect\n",
            "                MisplacedEnvelopeHeaderDefect\n",
            "                MissingHeaderBodySeparatorDefect\n",
            "                MultipartInvariantViolationDefect\n",
            "                InvalidMultipartContentTransferEncodingDefect\n",
            "                UndecodableBytesDefect\n",
            "                InvalidBase64PaddingDefect\n",
            "                InvalidBase64CharactersDefect\n",
            "                InvalidBase64LengthDefect\n",
            "                HeaderDefect\n",
            "                    InvalidHeaderDefect\n",
            "                    HeaderMissingRequiredValue\n",
            "                    NonPrintableDefect\n",
            "                    ObsoleteHeaderDefect\n",
            "                    NonASCIILocalPartDefect\n",
            "                    InvalidDateDefect\n",
            "            ClassNotFound\n",
            "            SSLCertVerificationError\n",
            "            ClipboardEmpty\n",
            "            MacroToEdit\n",
            "            ParserError\n",
            "            UnequalIterablesError\n",
            "            UnequalIterablesError\n",
            "            ELFInvalid\n",
            "            InvalidVersion\n",
            "            InvalidName\n",
            "            InvalidWheelFilename\n",
            "            InvalidSdistFilename\n",
            "            InvalidSpecifier\n",
            "            InvalidMarker\n",
            "            UndefinedComparison\n",
            "            UndefinedEnvironmentName\n",
            "            InvalidRequirement\n",
            "            DisabledFunctionError\n",
            "            AxisError\n",
            "            LinAlgError\n",
            "            DefusedXmlException\n",
            "                DTDForbidden\n",
            "                EntitiesForbidden\n",
            "                ExternalReferenceForbidden\n",
            "                NotSupportedError\n",
            "            NonIntersectingPathException\n",
            "        AssertionError\n",
            "        ArithmeticError\n",
            "            FloatingPointError\n",
            "            OverflowError\n",
            "            ZeroDivisionError\n",
            "                DivisionByZero\n",
            "                DivisionUndefined\n",
            "            DecimalException\n",
            "                Clamped\n",
            "                Rounded\n",
            "                    Underflow\n",
            "                    Overflow\n",
            "                Inexact\n",
            "                    Underflow\n",
            "                    Overflow\n",
            "                Subnormal\n",
            "                    Underflow\n",
            "                DivisionByZero\n",
            "                FloatOperation\n",
            "                InvalidOperation\n",
            "                    ConversionSyntax\n",
            "                    DivisionImpossible\n",
            "                    DivisionUndefined\n",
            "                    InvalidContext\n",
            "        SystemError\n",
            "            CodecRegistryError\n",
            "        ReferenceError\n",
            "        MemoryError\n",
            "            MemoryError\n",
            "        BufferError\n",
            "        Warning\n",
            "            UserWarning\n",
            "                GetPassWarning\n",
            "                FormatterWarning\n",
            "                SetuptoolsWarning\n",
            "                    InformationOnly\n",
            "                    SetuptoolsDeprecationWarning\n",
            "                        _AmbiguousMarker\n",
            "                        _DeprecatedConfig\n",
            "                        DistDeprecationWarning\n",
            "                    _MissingDynamic\n",
            "                    _ExperimentalConfiguration\n",
            "                    _ToolsTypoInMetadata\n",
            "                VisibleDeprecationWarning\n",
            "                RankWarning\n",
            "                ConversionWarning\n",
            "                RankWarning\n",
            "            EncodingWarning\n",
            "            DeprecationWarning\n",
            "                ProvisionalWarning\n",
            "                ModuleDeprecationWarning\n",
            "                MatplotlibDeprecationWarning\n",
            "            PendingDeprecationWarning\n",
            "            SyntaxWarning\n",
            "            RuntimeWarning\n",
            "                ProactorSelectorThreadWarning\n",
            "                UnknownTimezoneWarning\n",
            "                ComplexWarning\n",
            "                DecompressionBombWarning\n",
            "            FutureWarning\n",
            "                ProvisionalCompleterWarning\n",
            "                MaskedArrayFutureWarning\n",
            "            ImportWarning\n",
            "            UnicodeWarning\n",
            "            BytesWarning\n",
            "            ResourceWarning\n",
            "            DeprecatedTzFormatWarning\n",
            "        _OptionError\n",
            "        error\n",
            "        Verbose\n",
            "        Error\n",
            "        _Error\n",
            "        SubprocessError\n",
            "            CalledProcessError\n",
            "            TimeoutExpired\n",
            "        Error\n",
            "        TokenError\n",
            "        StopTokenizing\n",
            "        error\n",
            "        LZMAError\n",
            "        RegistryError\n",
            "        _GiveupOnFastCopy\n",
            "        ClassFoundException\n",
            "        EndOfBlock\n",
            "        TraitError\n",
            "        _GiveupOnSendfile\n",
            "        error\n",
            "        PickleError\n",
            "            PicklingError\n",
            "            UnpicklingError\n",
            "        _Stop\n",
            "        Empty\n",
            "        Full\n",
            "        ArgumentError\n",
            "        ArgumentTypeError\n",
            "        ConfigError\n",
            "            ConfigLoaderError\n",
            "                ArgumentError\n",
            "            ConfigFileNotFound\n",
            "        ConfigurableError\n",
            "            MultipleInstanceError\n",
            "        ApplicationError\n",
            "        ErrorDuringImport\n",
            "        BdbQuit\n",
            "        Restart\n",
            "        ExceptionPexpect\n",
            "            EOF\n",
            "            TIMEOUT\n",
            "        error\n",
            "        PtyProcessError\n",
            "        FindCmdError\n",
            "        HomeDirError\n",
            "        ProfileDirError\n",
            "        IPythonCoreError\n",
            "            TryNext\n",
            "            UsageError\n",
            "            StdinNotImplementedError\n",
            "        InputRejected\n",
            "        GetoptError\n",
            "        Incomplete\n",
            "        Error\n",
            "        BadZipFile\n",
            "        LargeZipFile\n",
            "        Error\n",
            "        MessageError\n",
            "            MessageParseError\n",
            "                HeaderParseError\n",
            "                    _InvalidEwError\n",
            "                BoundaryError\n",
            "            MultipartConversionError\n",
            "            CharsetError\n",
            "            HeaderWriteError\n",
            "        OptionError\n",
            "        ErrorToken\n",
            "        PrefilterError\n",
            "        AliasError\n",
            "            InvalidAliasError\n",
            "        Error\n",
            "            InterfaceError\n",
            "            DatabaseError\n",
            "                InternalError\n",
            "                OperationalError\n",
            "                ProgrammingError\n",
            "                IntegrityError\n",
            "                DataError\n",
            "                NotSupportedError\n",
            "        Warning\n",
            "        Error\n",
            "            CancelledError\n",
            "            TimeoutError\n",
            "            InvalidStateError\n",
            "        TimeoutError\n",
            "        InvalidStateError\n",
            "        LimitOverrunError\n",
            "        QueueEmpty\n",
            "        QueueFull\n",
            "        SpaceInInput\n",
            "        DOMException\n",
            "            IndexSizeErr\n",
            "            DomstringSizeErr\n",
            "            HierarchyRequestErr\n",
            "            WrongDocumentErr\n",
            "            InvalidCharacterErr\n",
            "            NoDataAllowedErr\n",
            "            NoModificationAllowedErr\n",
            "            NotFoundErr\n",
            "            NotSupportedErr\n",
            "            InuseAttributeErr\n",
            "            InvalidStateErr\n",
            "            SyntaxErr\n",
            "            InvalidModificationErr\n",
            "            NamespaceErr\n",
            "            InvalidAccessErr\n",
            "            ValidationErr\n",
            "        ValidationError\n",
            "        EditReadOnlyBuffer\n",
            "        _Retry\n",
            "        InvalidLayoutError\n",
            "        HeightIsUnknownError\n",
            "        ExpatError\n",
            "        ParseEscape\n",
            "        HTTPException\n",
            "            NotConnected\n",
            "            InvalidURL\n",
            "            UnknownProtocol\n",
            "            UnknownTransferEncoding\n",
            "            UnimplementedFileMode\n",
            "            IncompleteRead\n",
            "            ImproperConnectionState\n",
            "                CannotSendRequest\n",
            "                CannotSendHeader\n",
            "                ResponseNotReady\n",
            "            BadStatusLine\n",
            "                RemoteDisconnected\n",
            "            LineTooLong\n",
            "        InteractivelyDefined\n",
            "        KillEmbedded\n",
            "        ArgumentError\n",
            "        ZMQBaseError\n",
            "            ZMQError\n",
            "                ContextTerminated\n",
            "                Again\n",
            "                InterruptedSystemCall\n",
            "            ZMQBindError\n",
            "            NotDone\n",
            "        NoIPAddresses\n",
            "        Error\n",
            "            NoSectionError\n",
            "            DuplicateSectionError\n",
            "            DuplicateOptionError\n",
            "            NoOptionError\n",
            "            InterpolationError\n",
            "                InterpolationMissingOptionError\n",
            "                InterpolationSyntaxError\n",
            "                InterpolationDepthError\n",
            "            ParsingError\n",
            "                MissingSectionHeaderError\n",
            "        InvalidPortNumber\n",
            "        DuplicateKernelError\n",
            "        error\n",
            "        ReturnValueIgnoredError\n",
            "        KeyReuseError\n",
            "        UnknownKeyError\n",
            "        LeakedCallbackError\n",
            "        BadYieldError\n",
            "        ReturnValueIgnoredError\n",
            "        Return\n",
            "        QueueEmpty\n",
            "        QueueFull\n",
            "        IPythonError\n",
            "            KernelError\n",
            "                EngineError\n",
            "                NoEnginesRegistered\n",
            "                TaskAborted\n",
            "                TaskTimeout\n",
            "                UnmetDependency\n",
            "                    ImpossibleDependency\n",
            "                        DependencyTimeout\n",
            "                        InvalidDependency\n",
            "                RemoteError\n",
            "                    CompositeError\n",
            "                    AlreadyDisplayedError\n",
            "                TaskRejectError\n",
            "        ProcessError\n",
            "            BufferTooShort\n",
            "            TimeoutError\n",
            "            AuthenticationError\n",
            "        BadEntryPoint\n",
            "        NoSuchEntryPoint\n",
            "        Error\n",
            "            NoSuchProcess\n",
            "                ZombieProcess\n",
            "            AccessDenied\n",
            "            TimeoutExpired\n",
            "        _Ipv6UnsupportedError\n",
            "        LauncherError\n",
            "            ProcessStateError\n",
            "            UnknownStatus\n",
            "            NotRunning\n",
            "        DistutilsError\n",
            "            DistutilsModuleError\n",
            "            DistutilsClassError\n",
            "            DistutilsGetoptError\n",
            "            DistutilsArgError\n",
            "            DistutilsFileError\n",
            "            DistutilsOptionError\n",
            "                InvalidConfigError\n",
            "                RemovedConfigError\n",
            "            DistutilsSetupError\n",
            "            DistutilsPlatformError\n",
            "            DistutilsExecError\n",
            "            DistutilsInternalError\n",
            "            DistutilsTemplateError\n",
            "            DistutilsByteCompileError\n",
            "            RemovedCommandError\n",
            "            PackageDiscoveryError\n",
            "        CCompilerError\n",
            "            PreprocessError\n",
            "            CompileError\n",
            "            LibError\n",
            "            LinkError\n",
            "            UnknownFileError\n",
            "        TarError\n",
            "            ExtractError\n",
            "            ReadError\n",
            "            CompressionError\n",
            "            StreamError\n",
            "            HeaderError\n",
            "                EmptyHeaderError\n",
            "                TruncatedHeaderError\n",
            "                EOFHeaderError\n",
            "                InvalidHeaderError\n",
            "                SubsequentHeaderError\n",
            "            FilterError\n",
            "                AbsolutePathError\n",
            "                OutsideDestinationError\n",
            "                SpecialFileError\n",
            "                AbsoluteLinkError\n",
            "                LinkOutsideDestinationError\n",
            "        ParserSyntaxError\n",
            "        Error\n",
            "            AuthorizationError\n",
            "            RuntimeManagementError\n",
            "            MessageError\n",
            "        WidgetException\n",
            "        JsException\n",
            "        ConverterError\n",
            "            ConverterLockError\n",
            "        MAError\n",
            "            MaskError\n",
            "        FormattedTracebackError\n",
            "        ParseBaseException\n",
            "            ParseException\n",
            "            ParseFatalException\n",
            "                ParseSyntaxException\n",
            "        RecursiveGrammarException\n",
            "        _ParseActionIndexError\n",
            "        HttpLib2Error\n",
            "            HttpLib2ErrorWithResponse\n",
            "                RedirectMissingLocation\n",
            "                RedirectLimit\n",
            "                FailedToDecompressContent\n",
            "                UnimplementedDigestAuthOptionError\n",
            "                UnimplementedHmacDigestAuthOptionError\n",
            "            MalformedHeader\n",
            "            RelativeURIError\n",
            "            ServerNotFoundError\n",
            "            ProxiesUnavailableError\n",
            "        DecompressionBombError\n",
            "        BadRequiredStrength\n",
            "        DuplicateConstraint\n",
            "        DuplicateEditVariable\n",
            "        UnknownConstraint\n",
            "        UnknownEditVariable\n",
            "        UnsatisfiableConstraint\n",
            "        NonGuiException\n",
            "        InvalidIndexError\n",
            "        TerminateTrajectory\n",
            "        NoFreePortFoundError\n",
            "        DebuggerInitializationError\n",
            "        Error\n",
            "            ProtocolError\n",
            "            ResponseError\n",
            "            Fault\n",
            "        _Error\n",
            "        UnableToResolveVariableException\n",
            "        InvalidTypeInArgsException\n",
            "        CustomError\n",
            "    GeneratorExit\n",
            "    SystemExit\n",
            "    KeyboardInterrupt\n",
            "    CancelledError\n",
            "    AbortThread\n"
          ]
        }
      ]
    },
    {
      "cell_type": "markdown",
      "source": [
        "#Q3. What errors are defined in the ArithmeticError class? Explain any two with an example.\n",
        "###The ArithmeticError class in Python is the base class for all errors related to arithmetic operations. Common errors defined in this class include:\n",
        "##ZeroDivisionError:\n",
        "- Raised when attempting to divide by zero.\n",
        "\n",
        "##OverflowError:\n",
        "- Raised when a numerical calculation exceeds the maximum limit for a numeric type.\n",
        "\n",
        "##FloatingPointError:\n",
        "- Raised when a floating-point operation fails (rarely used in modern Python versions)."
      ],
      "metadata": {
        "id": "9XtyoDSqANsF"
      }
    },
    {
      "cell_type": "code",
      "source": [
        "#Example: ZeroDivisionError\n",
        "try:\n",
        "    result = 10 / 0\n",
        "except ZeroDivisionError as e:\n",
        "    print(f\"ZeroDivisionError occurred: {e}\")\n"
      ],
      "metadata": {
        "colab": {
          "base_uri": "https://localhost:8080/"
        },
        "id": "S5zjb0Z4APGK",
        "outputId": "d901ebf1-2007-4ce2-8a16-fd8e80c3b8df"
      },
      "execution_count": 3,
      "outputs": [
        {
          "output_type": "stream",
          "name": "stdout",
          "text": [
            "ZeroDivisionError occurred: division by zero\n"
          ]
        }
      ]
    },
    {
      "cell_type": "code",
      "source": [
        "#Example: OverflowError\n",
        "import math\n",
        "try:\n",
        "    result = math.exp(1000)\n",
        "except OverflowError as e:\n",
        "    print(f\"OverflowError occurred: {e}\")\n"
      ],
      "metadata": {
        "colab": {
          "base_uri": "https://localhost:8080/"
        },
        "id": "IxaIN0HhAx0H",
        "outputId": "a74843fb-dc91-4da6-97eb-4cd88a3fdfef"
      },
      "execution_count": 4,
      "outputs": [
        {
          "output_type": "stream",
          "name": "stdout",
          "text": [
            "OverflowError occurred: math range error\n"
          ]
        }
      ]
    },
    {
      "cell_type": "markdown",
      "source": [
        "#Q4. Why LookupError class is used? Explain with an example KeyError and IndexError.\n",
        "\n",
        "###The LookupError class in Python is the base class for all errors raised when an invalid lookup operation is performed. It is the parent class for more specific exceptions like KeyError and IndexError. Using LookupError allows you to catch all lookup-related errors in a generalized manner.\n",
        "\n",
        "##Why Use LookupError?\n",
        "- It provides a way to handle all lookup-related errors in a single block.\n",
        "- Specific child classes (KeyError, IndexError) handle more granular cases.\n",
        "\n"
      ],
      "metadata": {
        "id": "_hdZZahDBN9d"
      }
    },
    {
      "cell_type": "code",
      "source": [
        "#Example: KeyError\n",
        "try:\n",
        "    my_dict = {\"name\": \"Nitin\", \"age\": 25}\n",
        "    print(my_dict[\"address\"])\n",
        "except KeyError as e:\n",
        "    print(f\"KeyError occurred: {e}\")\n"
      ],
      "metadata": {
        "colab": {
          "base_uri": "https://localhost:8080/"
        },
        "id": "YUp18Qf7B-5F",
        "outputId": "1d526e49-c737-4506-a460-82948dbc4d1a"
      },
      "execution_count": 5,
      "outputs": [
        {
          "output_type": "stream",
          "name": "stdout",
          "text": [
            "KeyError occurred: 'address'\n"
          ]
        }
      ]
    },
    {
      "cell_type": "code",
      "source": [
        "#Example: IndexError\n",
        "try:\n",
        "    my_list = [1, 2, 3]\n",
        "    print(my_list[5])\n",
        "except IndexError as e:\n",
        "    print(f\"IndexError occurred: {e}\")"
      ],
      "metadata": {
        "colab": {
          "base_uri": "https://localhost:8080/"
        },
        "id": "HxOUki1UCMiq",
        "outputId": "f25d5bbd-0c62-4ae4-d7e2-89e4b8fa319f"
      },
      "execution_count": 6,
      "outputs": [
        {
          "output_type": "stream",
          "name": "stdout",
          "text": [
            "IndexError occurred: list index out of range\n"
          ]
        }
      ]
    },
    {
      "cell_type": "markdown",
      "source": [
        "#Q5. Explain ImportError. What is ModuleNotFoundError?\n",
        "##ImportError\n",
        "- Definition: ImportError is a built-in exception in Python that is raised when an import statement fails to find the module or when a module cannot be loaded due to an error in the module itself.\n",
        "\n",
        "####Common Causes:\n",
        "- The module does not exist.\n",
        "- The module is not installed or cannot be found in the Python path.\n",
        "- An error in the imported module prevents it from loading.\n",
        "\n",
        "##ModuleNotFoundError\n",
        "- Definition: ModuleNotFoundError is a subclass of ImportError that specifically indicates that the module being imported cannot be found. It was introduced in Python 3.6 to make the error more explicit and distinguish it from other import-related issues.\n",
        "\n",
        "###Key Difference:\n",
        "- ModuleNotFoundError is raised when the specified module is not found.\n",
        "- ImportError is more general and also includes cases where a module exists but cannot be imported due to other issues, like syntax errors or missing dependencies.\n"
      ],
      "metadata": {
        "id": "w2UosrsyDgOw"
      }
    },
    {
      "cell_type": "code",
      "source": [
        "#Example of ImportError:\n",
        "try:\n",
        "    import non_existent_module  # This module does not exist\n",
        "except ImportError as e:\n",
        "    print(f\"ImportError occurred: {e}\")"
      ],
      "metadata": {
        "colab": {
          "base_uri": "https://localhost:8080/"
        },
        "id": "j94HyivvFS5F",
        "outputId": "da95117c-12ba-4f2f-e96a-47d699da32d7"
      },
      "execution_count": 7,
      "outputs": [
        {
          "output_type": "stream",
          "name": "stdout",
          "text": [
            "ImportError occurred: No module named 'non_existent_module'\n"
          ]
        }
      ]
    },
    {
      "cell_type": "code",
      "source": [
        "#Example of ModuleNotFoundError:\n",
        "try:\n",
        "    import another_non_existent_module  # This module does not exist\n",
        "except ModuleNotFoundError as e:\n",
        "    print(f\"ModuleNotFoundError occurred: {e}\")"
      ],
      "metadata": {
        "colab": {
          "base_uri": "https://localhost:8080/"
        },
        "id": "wpanCzhZFbcK",
        "outputId": "5e0f8670-4d12-44f1-c199-056bc8997783"
      },
      "execution_count": 8,
      "outputs": [
        {
          "output_type": "stream",
          "name": "stdout",
          "text": [
            "ModuleNotFoundError occurred: No module named 'another_non_existent_module'\n"
          ]
        }
      ]
    },
    {
      "cell_type": "markdown",
      "source": [
        "#Q6. List down some best practices for exception handling in python.\n",
        "\n",
        "###Best Practices for Exception Handling in Python\n",
        "##1. Use Specific Exceptions\n",
        "- Always catch specific exceptions instead of using a generic except Exception.\n",
        "- Why: Improves readability and prevents catching unexpected errors.\n",
        "\n",
        "##2. Avoid Using Bare Except\n",
        "- Avoid using a bare except: as it catches all exceptions, including system-exiting exceptions like SystemExit or KeyboardInterrupt.\n",
        "- Why: It can unintentionally mask errors.\n",
        "\n",
        "##3. Use Finally for Cleanup\n",
        "- The finally block is used to release resources, close files, or clean up, ensuring the code runs regardless of whether an exception occurred.\n",
        "\n",
        "##4. Use Else Block for Code That Should Run if No Exception Occurs\n",
        "- Use the else block to execute code that only runs if no exceptions are raised.\n",
        "- Why: Improves clarity by separating successful operations from exception handling.\n",
        "\n",
        "##5. Log Exceptions Instead of Printing\n",
        "- Use the logging module to log exceptions for better debugging and maintainability.\n",
        "- Why: Logs provide a persistent record of issues, which print() does not."
      ],
      "metadata": {
        "id": "R7Uewd_gFmA7"
      }
    },
    {
      "cell_type": "code",
      "source": [
        "#Example: Use Specific Exceptions\n",
        "try:\n",
        "    result = 10 / 0\n",
        "except ZeroDivisionError as e:\n",
        "    print(\"Cannot divide by zero:\", e)\n",
        "except ValueError as e:\n",
        "    print(\"Invalid value:\", e)\n"
      ],
      "metadata": {
        "colab": {
          "base_uri": "https://localhost:8080/"
        },
        "id": "0GYdC7-JG5KE",
        "outputId": "84206f14-c223-4f15-90de-05df62b0452b"
      },
      "execution_count": 9,
      "outputs": [
        {
          "output_type": "stream",
          "name": "stdout",
          "text": [
            "Cannot divide by zero: division by zero\n"
          ]
        }
      ]
    },
    {
      "cell_type": "code",
      "source": [
        "#Example: Avoid Using Bare Except\n",
        "try:\n",
        "    result = 10 / 0\n",
        "except ZeroDivisionError:\n",
        "    print(\"Cannot divide by zero.\")\n"
      ],
      "metadata": {
        "colab": {
          "base_uri": "https://localhost:8080/"
        },
        "id": "dknUVOm9HBNO",
        "outputId": "37d89ce3-7536-4dbe-c014-1dff27599d83"
      },
      "execution_count": 10,
      "outputs": [
        {
          "output_type": "stream",
          "name": "stdout",
          "text": [
            "Cannot divide by zero.\n"
          ]
        }
      ]
    },
    {
      "cell_type": "code",
      "source": [
        "#Example: Use Finally for Cleanup\n",
        "try:\n",
        "    file = open(\"data.txt\", \"r\")\n",
        "    content = file.read()\n",
        "except FileNotFoundError:\n",
        "    print(\"File not found.\")\n",
        "finally:\n",
        "    file.close()\n",
        "    print(\"File closed.\")\n"
      ],
      "metadata": {
        "colab": {
          "base_uri": "https://localhost:8080/",
          "height": 216
        },
        "id": "Zco2JWS_HMDw",
        "outputId": "0803521c-4e36-46fb-b8a1-3ea724a1d649"
      },
      "execution_count": 11,
      "outputs": [
        {
          "output_type": "stream",
          "name": "stdout",
          "text": [
            "File not found.\n"
          ]
        },
        {
          "output_type": "error",
          "ename": "NameError",
          "evalue": "name 'file' is not defined",
          "traceback": [
            "\u001b[0;31m---------------------------------------------------------------------------\u001b[0m",
            "\u001b[0;31mNameError\u001b[0m                                 Traceback (most recent call last)",
            "\u001b[0;32m<ipython-input-11-8ce4af0ad291>\u001b[0m in \u001b[0;36m<cell line: 2>\u001b[0;34m()\u001b[0m\n\u001b[1;32m      6\u001b[0m     \u001b[0mprint\u001b[0m\u001b[0;34m(\u001b[0m\u001b[0;34m\"File not found.\"\u001b[0m\u001b[0;34m)\u001b[0m\u001b[0;34m\u001b[0m\u001b[0;34m\u001b[0m\u001b[0m\n\u001b[1;32m      7\u001b[0m \u001b[0;32mfinally\u001b[0m\u001b[0;34m:\u001b[0m\u001b[0;34m\u001b[0m\u001b[0;34m\u001b[0m\u001b[0m\n\u001b[0;32m----> 8\u001b[0;31m     \u001b[0mfile\u001b[0m\u001b[0;34m.\u001b[0m\u001b[0mclose\u001b[0m\u001b[0;34m(\u001b[0m\u001b[0;34m)\u001b[0m\u001b[0;34m\u001b[0m\u001b[0;34m\u001b[0m\u001b[0m\n\u001b[0m\u001b[1;32m      9\u001b[0m     \u001b[0mprint\u001b[0m\u001b[0;34m(\u001b[0m\u001b[0;34m\"File closed.\"\u001b[0m\u001b[0;34m)\u001b[0m\u001b[0;34m\u001b[0m\u001b[0;34m\u001b[0m\u001b[0m\n",
            "\u001b[0;31mNameError\u001b[0m: name 'file' is not defined"
          ]
        }
      ]
    },
    {
      "cell_type": "code",
      "source": [
        "#Example: Use Else Block for Code That Should Run if No Exception Occurs\n",
        "try:\n",
        "    result = int(\"10\")\n",
        "except ValueError:\n",
        "    print(\"Invalid input.\")\n",
        "else:\n",
        "    print(\"Conversion successful:\", result)\n"
      ],
      "metadata": {
        "colab": {
          "base_uri": "https://localhost:8080/"
        },
        "id": "HrCL_HOWHRKe",
        "outputId": "4984bc98-095a-4d8b-e6d9-cea9f66f9b0f"
      },
      "execution_count": 12,
      "outputs": [
        {
          "output_type": "stream",
          "name": "stdout",
          "text": [
            "Conversion successful: 10\n"
          ]
        }
      ]
    },
    {
      "cell_type": "code",
      "source": [
        "#Example: Log Exceptions Instead of Printing\n",
        "import logging\n",
        "\n",
        "logging.basicConfig(level=logging.ERROR)\n",
        "\n",
        "try:\n",
        "    result = 10 / 0\n",
        "except ZeroDivisionError as e:\n",
        "    logging.error(\"An error occurred: %s\", e)\n"
      ],
      "metadata": {
        "colab": {
          "base_uri": "https://localhost:8080/"
        },
        "id": "ONBP1jMhHiit",
        "outputId": "c9d1dc80-99d4-4733-fde2-f34476f7f4c2"
      },
      "execution_count": 13,
      "outputs": [
        {
          "output_type": "stream",
          "name": "stderr",
          "text": [
            "ERROR:root:An error occurred: division by zero\n"
          ]
        }
      ]
    }
  ]
}