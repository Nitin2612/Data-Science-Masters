{
  "nbformat": 4,
  "nbformat_minor": 0,
  "metadata": {
    "colab": {
      "provenance": []
    },
    "kernelspec": {
      "name": "python3",
      "display_name": "Python 3"
    },
    "language_info": {
      "name": "python"
    }
  },
  "cells": [
    {
      "cell_type": "markdown",
      "source": [
        "#Q1. Create a vehicle class with an init method having instance variables as name_of_vehicle, max_speed and average_of_vehicle."
      ],
      "metadata": {
        "id": "_pAsCKeXXGAv"
      }
    },
    {
      "cell_type": "code",
      "source": [
        "class Vehicle:\n",
        "    def __init__(self, name_of_vehicle, max_speed, average_of_vehicle):\n",
        "        self.name_of_vehicle = name_of_vehicle\n",
        "        self.max_speed = max_speed\n",
        "        self.average_of_vehicle = average_of_vehicle\n",
        "\n",
        "    def display_info(self):\n",
        "        print(f\"Vehicle Name: {self.name_of_vehicle}\")\n",
        "        print(f\"Max Speed: {self.max_speed} km/h\")\n",
        "        print(f\"Average Speed: {self.average_of_vehicle} km/l\")\n",
        "\n",
        "vehicle1 = Vehicle(\"Car\", 180, 15)\n",
        "\n",
        "vehicle1.display_info()\n"
      ],
      "metadata": {
        "colab": {
          "base_uri": "https://localhost:8080/"
        },
        "id": "63GpOBzgdZM6",
        "outputId": "11bbf08f-4f7b-4187-ffea-5511817c2991"
      },
      "execution_count": 1,
      "outputs": [
        {
          "output_type": "stream",
          "name": "stdout",
          "text": [
            "Vehicle Name: Car\n",
            "Max Speed: 180 km/h\n",
            "Average Speed: 15 km/l\n"
          ]
        }
      ]
    },
    {
      "cell_type": "markdown",
      "source": [
        "#Q2. Create a child class car from the vehicle class created in Que 1, which will inherit the vehicle class. Create a method named seating_capacity which takes capacity as an argument and returns the name of the vehicle and its seating capacity."
      ],
      "metadata": {
        "id": "dDIQaWPpdzjL"
      }
    },
    {
      "cell_type": "code",
      "source": [
        "class Vehicle:\n",
        "    def __init__(self, name_of_vehicle, max_speed, average_of_vehicle):\n",
        "        self.name_of_vehicle = name_of_vehicle\n",
        "        self.max_speed = max_speed\n",
        "        self.average_of_vehicle = average_of_vehicle\n",
        "\n",
        "    def display_info(self):\n",
        "        print(f\"Vehicle Name: {self.name_of_vehicle}\")\n",
        "        print(f\"Max Speed: {self.max_speed} km/h\")\n",
        "        print(f\"Average Speed: {self.average_of_vehicle} km/l\")\n",
        "\n",
        "class Car(Vehicle):\n",
        "    def seating_capacity(self, capacity):\n",
        "        return f\"The {self.name_of_vehicle} has a seating capacity of {capacity} people.\"\n",
        "\n",
        "car1 = Car(\"Sedan\", 200, 12)\n",
        "\n",
        "car1.display_info()\n",
        "\n",
        "print(car1.seating_capacity(5))\n"
      ],
      "metadata": {
        "colab": {
          "base_uri": "https://localhost:8080/"
        },
        "id": "imHYFplZd7S8",
        "outputId": "5bf01a29-6360-4e5d-eb56-41970126d587"
      },
      "execution_count": 2,
      "outputs": [
        {
          "output_type": "stream",
          "name": "stdout",
          "text": [
            "Vehicle Name: Sedan\n",
            "Max Speed: 200 km/h\n",
            "Average Speed: 12 km/l\n",
            "The Sedan has a seating capacity of 5 people.\n"
          ]
        }
      ]
    },
    {
      "cell_type": "markdown",
      "source": [
        "#Q3. What is multiple inheritance? Write a python code to demonstrate multiple inheritance.\n",
        "###Multiple inheritance is a feature in Object-Oriented Programming (OOP) where a class can inherit from more than one base class. In Python, a class can be derived from multiple classes, which allows the derived class to inherit attributes and methods from all the parent classes."
      ],
      "metadata": {
        "id": "ibrzjMEveWXt"
      }
    },
    {
      "cell_type": "code",
      "source": [
        "class Person:\n",
        "    def __init__(self, name, age):\n",
        "        self.name = name\n",
        "        self.age = age\n",
        "\n",
        "    def display_person_info(self):\n",
        "        print(f\"Name: {self.name}\")\n",
        "        print(f\"Age: {self.age}\")\n",
        "\n",
        "class Employee:\n",
        "    def __init__(self, employee_id, salary):\n",
        "        self.employee_id = employee_id\n",
        "        self.salary = salary\n",
        "\n",
        "    def display_employee_info(self):\n",
        "        print(f\"Employee ID: {self.employee_id}\")\n",
        "        print(f\"Salary: {self.salary}\")\n",
        "\n",
        "class Manager(Person, Employee):\n",
        "    def __init__(self, name, age, employee_id, salary, department):\n",
        "        Person.__init__(self, name, age)\n",
        "        Employee.__init__(self, employee_id, salary)\n",
        "        self.department = department\n",
        "\n",
        "    def display_manager_info(self):\n",
        "        self.display_person_info()\n",
        "        self.display_employee_info()\n",
        "        print(f\"Department: {self.department}\")\n",
        "\n",
        "manager = Manager(\"Nitin\", 28, \"E123\", 75000, \"HR\")\n",
        "\n",
        "manager.display_manager_info()\n"
      ],
      "metadata": {
        "colab": {
          "base_uri": "https://localhost:8080/"
        },
        "id": "qV3iHtgVejbE",
        "outputId": "dfa3d1ec-253e-4028-b93d-603955dd9f81"
      },
      "execution_count": 4,
      "outputs": [
        {
          "output_type": "stream",
          "name": "stdout",
          "text": [
            "Name: Nitin\n",
            "Age: 28\n",
            "Employee ID: E123\n",
            "Salary: 75000\n",
            "Department: HR\n"
          ]
        }
      ]
    },
    {
      "cell_type": "markdown",
      "source": [
        "#Q4. What are getter and setter in python? Create a class and create a getter and a setter method in this class.\n",
        "###In Python, getter and setter are methods used to access and modify the attributes of a class. They provide a way to control how a particular attribute is accessed and changed. These methods are particularly useful when you want to add some logic to the process of getting or setting a value, like validation or formatting.\n",
        "- Getter: A getter method is used to access the value of a private attribute of the class.\n",
        "- Setter: A setter method is used to set or modify the value of a private attribute of the class.\n",
        "\n",
        "###By convention, attributes in Python classes are often made private (by adding an underscore before the attribute name), and getter and setter methods are used to access and modify these private attributes."
      ],
      "metadata": {
        "id": "oob9taV-fFqG"
      }
    },
    {
      "cell_type": "code",
      "source": [
        "class Person:\n",
        "    def __init__(self, name, age):\n",
        "        self._name = name\n",
        "        self._age = age\n",
        "\n",
        "    # Getter for name\n",
        "    def get_name(self):\n",
        "        return self._name\n",
        "\n",
        "    # Setter for name\n",
        "    def set_name(self, name):\n",
        "        if isinstance(name, str):\n",
        "            self._name = name\n",
        "        else:\n",
        "            print(\"Invalid name\")\n",
        "\n",
        "    # Getter for age\n",
        "    def get_age(self):\n",
        "        return self._age\n",
        "\n",
        "    # Setter for age\n",
        "    def set_age(self, age):\n",
        "        if isinstance(age, int) and age > 0:\n",
        "            self._age = age\n",
        "        else:\n",
        "            print(\"Invalid age\")\n",
        "\n",
        "person = Person(\"Nitin\", 25)\n",
        "\n",
        "# Using getter methods to access values\n",
        "print(\"Name:\", person.get_name())\n",
        "print(\"Age:\", person.get_age())\n",
        "\n",
        "# Using setter methods to modify values\n",
        "person.set_name(\"yo boy\")\n",
        "person.set_age(30)\n",
        "\n",
        "# Using getter methods after modification\n",
        "print(\"Updated Name:\", person.get_name())\n",
        "print(\"Updated Age:\", person.get_age())\n",
        "\n",
        "# Trying to set invalid values\n",
        "person.set_name(123)\n",
        "person.set_age(-5)\n"
      ],
      "metadata": {
        "colab": {
          "base_uri": "https://localhost:8080/"
        },
        "id": "kMRp6J5Ifxtq",
        "outputId": "5d1910ea-cb44-4247-8701-936d8f287a21"
      },
      "execution_count": 5,
      "outputs": [
        {
          "output_type": "stream",
          "name": "stdout",
          "text": [
            "Name: Nitin\n",
            "Age: 25\n",
            "Updated Name: yo boy\n",
            "Updated Age: 30\n",
            "Invalid name\n",
            "Invalid age\n"
          ]
        }
      ]
    },
    {
      "cell_type": "markdown",
      "source": [
        "#Q5.What is method overriding in python? Write a python code to demonstrate method overriding.\n",
        "###**Method Overriding** is an object-oriented programming concept in Python where a subclass provides a specific implementation for a method that is already defined in its parent class. When a subclass defines a method with the same name, parameters, and behavior as the method in the parent class, the subclass method overrides the parent class method.\n",
        "\n",
        "- The main purpose of method overriding is to allow the subclass to implement behavior that is specific to the subclass while maintaining the interface and structure defined in the parent class."
      ],
      "metadata": {
        "id": "cqGGPKLXlhvE"
      }
    },
    {
      "cell_type": "code",
      "source": [
        "class Animal:\n",
        "    def speak(self):\n",
        "        print(\"Animal makes a sound\")\n",
        "\n",
        "class Dog(Animal):\n",
        "    # Overriding the speak method of the Animal class\n",
        "    def speak(self):\n",
        "        print(\"Dog barks\")\n",
        "\n",
        "class Cat(Animal):\n",
        "    # Overriding the speak method of the Animal class\n",
        "    def speak(self):\n",
        "        print(\"Cat meows\")\n",
        "\n",
        "animal = Animal()\n",
        "dog = Dog()\n",
        "cat = Cat()\n",
        "\n",
        "animal.speak()\n",
        "dog.speak()\n",
        "cat.speak()\n"
      ],
      "metadata": {
        "colab": {
          "base_uri": "https://localhost:8080/"
        },
        "id": "Qn191P1el4SG",
        "outputId": "c7a73ad1-52fd-4a76-8fb1-10917ea25c73"
      },
      "execution_count": 6,
      "outputs": [
        {
          "output_type": "stream",
          "name": "stdout",
          "text": [
            "Animal makes a sound\n",
            "Dog barks\n",
            "Cat meows\n"
          ]
        }
      ]
    }
  ]
}