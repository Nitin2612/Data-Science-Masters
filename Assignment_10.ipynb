{
  "nbformat": 4,
  "nbformat_minor": 0,
  "metadata": {
    "colab": {
      "provenance": []
    },
    "kernelspec": {
      "name": "python3",
      "display_name": "Python 3"
    },
    "language_info": {
      "name": "python"
    }
  },
  "cells": [
    {
      "cell_type": "markdown",
      "source": [
        "#Q1. What is multiprocessing in python? Why is it useful?\n",
        "###Multiprocessing is a programming paradigm that allows multiple processes to run concurrently. In Python, the multiprocessing module enables the creation, synchronization, and management of multiple processes, which are separate units of execution. Each process has its own memory space, unlike threads, which share the same memory space.\n",
        "\n",
        "##Why is Multiprocessing Useful?\n",
        "###Bypass Global Interpreter Lock (GIL):\n",
        "- In Python, the Global Interpreter Lock (GIL) restricts the execution of threads to one at a time within a single process. This makes multi-threading less effective for CPU-bound tasks (tasks that require heavy computation). However, multiprocessing works around the GIL because each process has its own interpreter and memory space, allowing true parallelism.\n",
        "\n",
        "###Improved Performance for CPU-Bound Tasks:\n",
        "- When working with CPU-intensive tasks, multiprocessing can significantly improve performance by utilizing multiple CPU cores. It allows parallel execution of independent tasks, which can be helpful in computations such as image processing, data analysis, and simulations.\n",
        "\n",
        "###Concurrency for I/O-Bound Tasks:\n",
        "- Although threads can work well for I/O-bound tasks (like reading from files, network communication), multiprocessing is still useful when tasks are independent and can be split across different processes for better management and parallelism.\n",
        "\n",
        "###Isolation and Fault Tolerance:\n",
        "- Each process in a multiprocessing setup runs in its own memory space, so a failure in one process does not affect others. This isolation can increase the stability of programs by preventing crashes from propagating.\n",
        "\n",
        "###Parallel Execution of Independent Tasks:\n",
        "- In many real-world applications, tasks can often be broken down into smaller independent units that can run concurrently. Multiprocessing can help speed up the execution by distributing these tasks across multiple processes."
      ],
      "metadata": {
        "id": "V8IL80ZfYxi-"
      }
    },
    {
      "cell_type": "code",
      "source": [
        "#Example:\n",
        "import multiprocessing\n",
        "import time\n",
        "\n",
        "def square_number(number):\n",
        "    time.sleep(1)\n",
        "    print(f\"Square of {number}: {number * number}\")\n",
        "\n",
        "if __name__ == \"__main__\":\n",
        "    process1 = multiprocessing.Process(target=square_number, args=(5,))\n",
        "    process2 = multiprocessing.Process(target=square_number, args=(10,))\n",
        "\n",
        "    process1.start()\n",
        "    process2.start()\n",
        "\n",
        "    process1.join()\n",
        "    process2.join()\n",
        "\n",
        "    print(\"Both processes finished.\")\n"
      ],
      "metadata": {
        "colab": {
          "base_uri": "https://localhost:8080/"
        },
        "id": "acLlc6ZFZZEY",
        "outputId": "6aecc65f-2966-4dda-9c66-fe2cc8bb43fc"
      },
      "execution_count": 1,
      "outputs": [
        {
          "output_type": "stream",
          "name": "stdout",
          "text": [
            "Square of 5: 25\n",
            "Square of 10: 100\n",
            "Both processes finished.\n"
          ]
        }
      ]
    },
    {
      "cell_type": "markdown",
      "source": [
        "#Q2. What are the differences between multiprocessing and multithreading?\n",
        "\n",
        "###Memory and Process vs Thread:\n",
        "- Multiprocessing creates multiple processes, each with its own memory space. These processes are independent, and they do not share memory with each other.\n",
        "- Multithreading runs threads within the same process. All threads share the same memory space, which makes it easier to share data between threads but also creates a risk of data corruption and race conditions.\n",
        "\n",
        "###Parallelism:\n",
        "- Multiprocessing allows true parallel execution of tasks. Since each process has its own Python interpreter and memory space, multiple processes can run concurrently on multiple CPU cores, achieving real parallelism.\n",
        "- Multithreading, on the other hand, is constrained by the Global Interpreter Lock (GIL) in CPython. This means that even though there may be multiple threads, only one thread can execute Python code at any given time. Therefore, it doesn't achieve true parallelism in CPU-bound tasks but can be effective for I/O-bound tasks.\n",
        "\n",
        "###Performance for Different Types of Tasks:\n",
        "- CPU-bound tasks: Multiprocessing is preferred for tasks that require heavy computation because it can utilize multiple CPU cores for true parallelism.\n",
        "- I/O-bound tasks: Multithreading is more suitable for tasks that spend a lot of time waiting, such as network requests or disk I/O operations. Threads can perform other tasks while waiting for I/O operations to complete.\n",
        "\n",
        "###Overhead:\n",
        "- Multiprocessing incurs more overhead because each process has its own memory space, and creating processes is costlier than creating threads. Inter-process communication (IPC) is also more complex and slower than thread communication.\n",
        "- Multithreading has lower overhead, as threads are lighter and share the same memory space, allowing faster communication and synchronization between them.\n",
        "\n",
        "###Fault Isolation:\n",
        "- Multiprocessing has better fault tolerance because if one process crashes, it doesn't affect other processes. This is because each process is isolated with its own memory and interpreter.\n",
        "- Multithreading is less isolated because threads share the same memory space. A crash in one thread can potentially bring down the entire process.\n"
      ],
      "metadata": {
        "id": "lw3Doa26ZpwQ"
      }
    },
    {
      "cell_type": "markdown",
      "source": [
        "#Q3. Write a python code to create a process using the multiprocessing module.\n"
      ],
      "metadata": {
        "id": "VI-ebCudaByC"
      }
    },
    {
      "cell_type": "code",
      "source": [
        "import multiprocessing\n",
        "import time\n",
        "\n",
        "def print_square(number):\n",
        "    time.sleep(2)\n",
        "    print(f'Square of {number}: {number * number}')\n",
        "\n",
        "if __name__ == \"__main__\":\n",
        "    process = multiprocessing.Process(target=print_square, args=(5,))\n",
        "\n",
        "    process.start()\n",
        "\n",
        "    process.join()\n",
        "\n",
        "    print(\"Process completed\")\n"
      ],
      "metadata": {
        "colab": {
          "base_uri": "https://localhost:8080/"
        },
        "id": "ey7USG6Iabgi",
        "outputId": "7b64fb86-70e5-4c47-9d48-3b192a0c5abb"
      },
      "execution_count": 2,
      "outputs": [
        {
          "output_type": "stream",
          "name": "stdout",
          "text": [
            "Square of 5: 25\n",
            "Process completed\n"
          ]
        }
      ]
    },
    {
      "cell_type": "markdown",
      "source": [
        "#Q4. What is a multiprocessing pool in python? Why is it used?\n",
        "###A multiprocessing pool in Python is a high-level interface provided by the multiprocessing module to manage multiple worker processes efficiently. It allows you to parallelize the execution of a function across multiple input values, distributing the work among different processes in the pool. The Pool class provides an easy way to manage multiple worker processes and helps you to perform tasks like mapping a function over a sequence of items or executing a function in parallel for multiple tasks.\n",
        "\n",
        "##Why is it Used?\n",
        "- Parallel Execution: The primary benefit of using a pool is parallel processing. It allows you to run multiple tasks concurrently, which can speed up operations for CPU-bound tasks by utilizing multiple CPU cores.\n",
        "- Simplified Process Management: Instead of manually managing each process, the pool abstracts the complexity of process creation, starting, and joining.\n",
        "- Efficient Resource Utilization: The pool maintains a fixed number of worker processes and distributes the tasks to them. This helps in limiting the number of processes running at any given time and avoids overloading the system with too many processes."
      ],
      "metadata": {
        "id": "5-1CrFxpaas9"
      }
    },
    {
      "cell_type": "markdown",
      "source": [
        "#Q5. How can we create a pool of worker processes in python using the multiprocessing module?"
      ],
      "metadata": {
        "id": "82CvlaOma2aw"
      }
    },
    {
      "cell_type": "code",
      "source": [
        "import multiprocessing\n",
        "\n",
        "def square(n):\n",
        "    return n * n\n",
        "\n",
        "if __name__ == \"__main__\":\n",
        "    with multiprocessing.Pool(processes=4) as pool:\n",
        "        numbers = [1, 2, 3, 4, 5]\n",
        "\n",
        "        result = pool.map(square, numbers)\n",
        "\n",
        "    print(result)\n"
      ],
      "metadata": {
        "colab": {
          "base_uri": "https://localhost:8080/"
        },
        "id": "F_zpzFP6bBX9",
        "outputId": "62611808-cc99-4807-f8d2-16f9b8edfaa3"
      },
      "execution_count": 3,
      "outputs": [
        {
          "output_type": "stream",
          "name": "stdout",
          "text": [
            "[1, 4, 9, 16, 25]\n"
          ]
        }
      ]
    },
    {
      "cell_type": "markdown",
      "source": [
        "#Q6. Write a python program to create 4 processes, each process should print a different number using the multiprocessing module in python."
      ],
      "metadata": {
        "id": "LK5ALPmVbKVe"
      }
    },
    {
      "cell_type": "code",
      "source": [
        "import multiprocessing\n",
        "\n",
        "def print_number(number):\n",
        "    print(f\"Process {number} is printing: {number}\")\n",
        "\n",
        "if __name__ == \"__main__\":\n",
        "    process1 = multiprocessing.Process(target=print_number, args=(1,))\n",
        "    process2 = multiprocessing.Process(target=print_number, args=(2,))\n",
        "    process3 = multiprocessing.Process(target=print_number, args=(3,))\n",
        "    process4 = multiprocessing.Process(target=print_number, args=(4,))\n",
        "\n",
        "    process1.start()\n",
        "    process2.start()\n",
        "    process3.start()\n",
        "    process4.start()\n",
        "\n",
        "    process1.join()\n",
        "    process2.join()\n",
        "    process3.join()\n",
        "    process4.join()\n",
        "\n",
        "    print(\"All processes have completed their execution.\")\n"
      ],
      "metadata": {
        "id": "8KCNchjJbQau"
      },
      "execution_count": null,
      "outputs": []
    }
  ]
}