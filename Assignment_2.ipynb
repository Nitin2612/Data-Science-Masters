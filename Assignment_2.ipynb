{
  "nbformat": 4,
  "nbformat_minor": 0,
  "metadata": {
    "colab": {
      "provenance": []
    },
    "kernelspec": {
      "name": "python3",
      "display_name": "Python 3"
    },
    "language_info": {
      "name": "python"
    }
  },
  "cells": [
    {
      "cell_type": "markdown",
      "source": [
        "#Q1. How do you comment code in Python? What are the different types of comments?\n",
        "###In Python, comments are used to make the code more readable by providing explanations or notes.\n",
        "##Types of Comments in Python:\n",
        "###Single-line Comments:\n",
        "- These comments are used for short explanations or notes and are written on a single line.\n",
        "- Syntax: The comment starts with a # symbol.\n",
        "\n",
        "###Multi-line Comments:\n",
        "- These comments are used for longer explanations that span multiple lines While Python does not have a special syntax for multi-line comments, you can use consecutive single-line comments or triple quotes (''' or \"\"\") for multi-line comments.\n",
        "- Syntax: Use # for each line or triple quotes to enclose the block of text.\n",
        "\n",
        "###Docstrings:\n",
        "- Docstrings are a special kind of comment used for documenting functions, classes, and modules. They are written inside triple quotes (\"\"\" or ''') and can span multiple lines.\n",
        "- Docstrings are used to describe the purpose, parameters, and return values of a function or class and can be accessed programmatically using the help() function."
      ],
      "metadata": {
        "id": "lSQ9rfSfYQEe"
      }
    },
    {
      "cell_type": "code",
      "source": [
        "# This is a single-line comment\n",
        "print(\"Hello, World!\")  # This prints 'Hello, World!'"
      ],
      "metadata": {
        "colab": {
          "base_uri": "https://localhost:8080/"
        },
        "id": "s3w8SQB2WMc9",
        "outputId": "9c049703-0e55-4149-be19-843298c07a0a"
      },
      "execution_count": 1,
      "outputs": [
        {
          "output_type": "stream",
          "name": "stdout",
          "text": [
            "Hello, World!\n"
          ]
        }
      ]
    },
    {
      "cell_type": "code",
      "source": [
        "# This is a multi-line comment\n",
        "# that spans several lines\n",
        "# for better readability.\n",
        "print(\"Hello, World!\")"
      ],
      "metadata": {
        "colab": {
          "base_uri": "https://localhost:8080/"
        },
        "id": "S8qk6DBkWUK8",
        "outputId": "b0a1f9a2-3358-4350-f306-dec73cd9262a"
      },
      "execution_count": 2,
      "outputs": [
        {
          "output_type": "stream",
          "name": "stdout",
          "text": [
            "Hello, World!\n"
          ]
        }
      ]
    },
    {
      "cell_type": "code",
      "source": [
        "'''\n",
        "This is a multi-line comment\n",
        "that spans multiple lines.\n",
        "It's often used for docstrings.\n",
        "'''\n",
        "print(\"Hello, World!\")"
      ],
      "metadata": {
        "colab": {
          "base_uri": "https://localhost:8080/"
        },
        "id": "_zNjvlILWa99",
        "outputId": "44cdc464-ad5e-4749-a6ac-c060f94ba8b3"
      },
      "execution_count": 3,
      "outputs": [
        {
          "output_type": "stream",
          "name": "stdout",
          "text": [
            "Hello, World!\n"
          ]
        }
      ]
    },
    {
      "cell_type": "code",
      "source": [
        "def greet(name):\n",
        "    \"\"\"\n",
        "    This function greets the person passed in as the 'name' parameter.\n",
        "\n",
        "    Parameters:\n",
        "    name (str): The name of the person to greet.\n",
        "\n",
        "    Returns:\n",
        "    None\n",
        "    \"\"\"\n",
        "    print(f\"Hello, {name}!\")"
      ],
      "metadata": {
        "id": "ISGHQbE4WfK6"
      },
      "execution_count": 5,
      "outputs": []
    },
    {
      "cell_type": "markdown",
      "source": [
        "#Q2. What are variables in Python? How do you declare and assign values to variables?\n",
        "###In Python, variables are used to store data that can be referenced and manipulated throughout a program. They act as containers for data and are given names to make the code more readable and meaningful.\n",
        "\n",
        "##Characteristics of Variables in Python:\n",
        "###Dynamic Typing:\n",
        "- You don't need to specify the type of a variable explicitly.\n",
        "- The type is inferred from the value assigned.\n",
        "\n",
        "###No Declaration Required:\n",
        "- Variables are created when you assign a value to them.\n",
        "\n",
        "###Case Sensitive:\n",
        "- Variable names are case-sensitive (myVar and myvar are different).\n",
        "\n",
        "###Naming Rules:\n",
        "- Variable names must start with a letter (a-z, A-Z) or an underscore _.\n",
        "Subsequent characters can be letters, numbers (0-9), or underscores.\n",
        "Keywords cannot be used as variable names."
      ],
      "metadata": {
        "id": "VwjTsPjyWmta"
      }
    },
    {
      "cell_type": "code",
      "source": [
        "#Example: Declaration\n",
        "x = 10  # Variable 'x' is declared and assigned the value 10\n"
      ],
      "metadata": {
        "id": "xB7gyIIcXWIu"
      },
      "execution_count": 7,
      "outputs": []
    },
    {
      "cell_type": "code",
      "source": [
        "#Example: Assignment\n",
        "age = 25  # Assigns the integer 25 to the variable 'age'\n",
        "pi = 3.14  # Assigns the float 3.14 to the variable 'pi'"
      ],
      "metadata": {
        "id": "DNqgzPMBXfZQ"
      },
      "execution_count": null,
      "outputs": []
    },
    {
      "cell_type": "code",
      "source": [
        "#Example: Multiple Assignments\n",
        "a, b, c = 1, 2, 3  # Assigns 1 to 'a', 2 to 'b', and 3 to 'c'\n"
      ],
      "metadata": {
        "id": "bGRueCTOXzr4"
      },
      "execution_count": null,
      "outputs": []
    },
    {
      "cell_type": "code",
      "source": [
        "#Example: Changing Values\n",
        "x = 10\n",
        "x = \"Now I'm a string!\""
      ],
      "metadata": {
        "id": "D8XEUPuBX774"
      },
      "execution_count": null,
      "outputs": []
    },
    {
      "cell_type": "markdown",
      "source": [
        "#Q3. How do you convert one data type to another in Python?\n",
        "###In Python, you can convert one data type to another using type conversion or type casting. There are two types of conversions:\n",
        "- **Implicit Conversion (Automatic Type Conversion):** This happens automatically when Python converts one data type to another implicitly. This usually happens when no data is lost in the conversion.\n",
        "\n",
        "- **Explicit Conversion (Manual Type Conversion)**: This requires the use of built-in functions to manually convert one data type to another.\n"
      ],
      "metadata": {
        "id": "kr8GudvWYLL6"
      }
    },
    {
      "cell_type": "code",
      "source": [
        "# Implicit Conversion\n",
        "x = 5       # Integer\n",
        "y = 3.2     # Float\n",
        "result = x + y  # Python implicitly converts 'x' to float\n",
        "print(f\"Implicit Conversion: {x} + {y} = {result}\")\n",
        "\n",
        "# Explicit Conversion (int())\n",
        "float_value = 5.67\n",
        "int_value = int(float_value)  # Converts float to integer\n",
        "print(f\"Explicit Conversion (int): {float_value} -> {int_value}\")\n",
        "\n",
        "string_num = \"10\"\n",
        "int_from_string = int(string_num)  # Converts string to integer\n",
        "print(f\"String to Integer: '{string_num}' -> {int_from_string}\")\n",
        "\n",
        "# Explicit Conversion (float())\n",
        "integer_value = 5\n",
        "float_value = float(integer_value)  # Converts integer to float\n",
        "print(f\"Explicit Conversion (float): {integer_value} -> {float_value}\")\n",
        "\n",
        "string_value = \"5.78\"\n",
        "float_from_string = float(string_value)  # Converts string to float\n",
        "print(f\"String to Float: '{string_value}' -> {float_from_string}\")\n",
        "\n",
        "# Explicit Conversion (str())\n",
        "num = 10\n",
        "str_value = str(num)  # Converts integer to string\n",
        "print(f\"Integer to String: {num} -> '{str_value}'\")\n",
        "\n",
        "float_num = 3.14\n",
        "str_from_float = str(float_num)  # Converts float to string\n",
        "print(f\"Float to String: {float_num} -> '{str_from_float}'\")\n",
        "\n",
        "# Explicit Conversion (bool())\n",
        "non_zero = 5\n",
        "bool_value = bool(non_zero)  # Converts non-zero number to boolean\n",
        "print(f\"Non-zero to Boolean: {non_zero} -> {bool_value}\")\n",
        "\n",
        "zero_value = 0\n",
        "bool_from_zero = bool(zero_value)  # Converts zero to boolean\n",
        "print(f\"Zero to Boolean: {zero_value} -> {bool_from_zero}\")\n",
        "\n",
        "# Explicit Conversion (list())\n",
        "tuple_value = (1, 2, 3)\n",
        "list_from_tuple = list(tuple_value)  # Converts tuple to list\n",
        "print(f\"Tuple to List: {tuple_value} -> {list_from_tuple}\")\n",
        "\n",
        "string_value = \"hello\"\n",
        "list_from_string = list(string_value)  # Converts string to list of characters\n",
        "print(f\"String to List: '{string_value}' -> {list_from_string}\")\n",
        "\n",
        "# Explicit Conversion (tuple())\n",
        "list_value = [1, 2, 3]\n",
        "tuple_from_list = tuple(list_value)  # Converts list to tuple\n",
        "print(f\"List to Tuple: {list_value} -> {tuple_from_list}\")\n",
        "\n",
        "# Explicit Conversion (set())\n",
        "list_with_duplicates = [1, 2, 3, 3]\n",
        "set_from_list = set(list_with_duplicates)  # Converts list to set (removes duplicates)\n",
        "print(f\"List to Set: {list_with_duplicates} -> {set_from_list}\")\n",
        "\n",
        "# Explicit Conversion (dict())\n",
        "pairs = [('a', 1), ('b', 2)]\n",
        "dict_from_pairs = dict(pairs)  # Converts list of tuples to dictionary\n",
        "print(f\"List of Tuples to Dictionary: {pairs} -> {dict_from_pairs}\")\n",
        "\n",
        "# Error handling during conversion (Example of ValueError)\n",
        "try:\n",
        "    invalid_conversion = int(\"abc\")  # This will raise an error\n",
        "except ValueError:\n",
        "    print(\"Error: Invalid conversion from string to integer\")\n",
        "\n"
      ],
      "metadata": {
        "colab": {
          "base_uri": "https://localhost:8080/"
        },
        "id": "Rqlk2YPcYwWA",
        "outputId": "443eab52-9c57-4592-ad56-50ac88f9bc6f"
      },
      "execution_count": 8,
      "outputs": [
        {
          "output_type": "stream",
          "name": "stdout",
          "text": [
            "Implicit Conversion: 5 + 3.2 = 8.2\n",
            "Explicit Conversion (int): 5.67 -> 5\n",
            "String to Integer: '10' -> 10\n",
            "Explicit Conversion (float): 5 -> 5.0\n",
            "String to Float: '5.78' -> 5.78\n",
            "Integer to String: 10 -> '10'\n",
            "Float to String: 3.14 -> '3.14'\n",
            "Non-zero to Boolean: 5 -> True\n",
            "Zero to Boolean: 0 -> False\n",
            "Tuple to List: (1, 2, 3) -> [1, 2, 3]\n",
            "String to List: 'hello' -> ['h', 'e', 'l', 'l', 'o']\n",
            "List to Tuple: [1, 2, 3] -> (1, 2, 3)\n",
            "List to Set: [1, 2, 3, 3] -> {1, 2, 3}\n",
            "List of Tuples to Dictionary: [('a', 1), ('b', 2)] -> {'a': 1, 'b': 2}\n",
            "Error: Invalid conversion from string to integer\n"
          ]
        }
      ]
    },
    {
      "cell_type": "markdown",
      "source": [
        "#Q4. How do you write and execute a Python script from the command line?\n",
        "###1. Write the Python Script\n",
        "- Open a Text Editor: Use a text editor like Notepad (Windows), TextEdit (Mac), or nano/vim (Linux).\n",
        "- Write Your Python Code: Example:\n",
        " - print(\"Hello, World!\")\n",
        "- Save the File: Save the file with a .py extension, e.g., hello.py. Ensure the file is saved in a directory you can easily access from the command line.\n",
        "###2. Open the Command Line\n",
        "- On Windows, use Command Prompt or PowerShell.\n",
        "- On Mac/Linux, use the terminal\n",
        "\n",
        "###3. Navigate to the Script's Directory\n",
        "- Use the cd (change directory) command to navigate to the folder where the Python script is saved. For example:\n",
        " - cd path/to/your/script\n",
        "\n",
        " ###4. Execute the Python Script\n",
        "- Run the script using the Python interpreter:\n",
        " - python hello.py\n",
        "\n",
        "###5. Example Execution\n",
        "- Suppose hello.py contains: print(\"Hello, World!\")\n",
        "- Running: python hello.py\n",
        "- Will output: Hello, World!\n"
      ],
      "metadata": {
        "id": "SpDeYvqWY9Wb"
      }
    },
    {
      "cell_type": "markdown",
      "source": [
        "#Q5. Given a list my_list = [1, 2, 3, 4, 5], write the code to slice the list and obtain the sub-list [2, 3]."
      ],
      "metadata": {
        "id": "LuZO0dtR_6NZ"
      }
    },
    {
      "cell_type": "code",
      "source": [
        "my_list = [1, 2, 3, 4, 5]\n",
        "sub_list = my_list[1:3]\n",
        "print(sub_list)\n"
      ],
      "metadata": {
        "colab": {
          "base_uri": "https://localhost:8080/"
        },
        "id": "dzrPUGqJADcS",
        "outputId": "2951305f-aa84-4a0d-9915-e4e623f28f0c"
      },
      "execution_count": 1,
      "outputs": [
        {
          "output_type": "stream",
          "name": "stdout",
          "text": [
            "[2, 3]\n"
          ]
        }
      ]
    },
    {
      "cell_type": "markdown",
      "source": [
        "#Q6. What is a complex number in mathematics, and how is it represented in Python?\n",
        "###A complex number is a number that comprises a real part and an imaginary part. It is represented in the form:\n",
        "z=a+bi\n",
        "- Where:\n",
        " - a is the real part (a real number).\n",
        " - b is the imaginary part (a real number).\n",
        " - i (or j in engineering) is the imaginary unit.\n"
      ],
      "metadata": {
        "id": "ewY7ZYi2AKaC"
      }
    },
    {
      "cell_type": "code",
      "source": [
        "# Creating a complex number\n",
        "z = 3 + 4j\n",
        "\n",
        "real_part = z.real\n",
        "imaginary_part = z.imag\n",
        "\n",
        "magnitude = abs(z)\n",
        "\n",
        "print(\"Complex number:\", z)\n",
        "print(\"Real part:\", real_part)\n",
        "print(\"Imaginary part:\", imaginary_part)\n",
        "print(\"Magnitude:\", magnitude)\n"
      ],
      "metadata": {
        "colab": {
          "base_uri": "https://localhost:8080/"
        },
        "id": "8vSkoU6hAPw1",
        "outputId": "6d3307f4-89fd-4648-a898-1ea463a27ba0"
      },
      "execution_count": 2,
      "outputs": [
        {
          "output_type": "stream",
          "name": "stdout",
          "text": [
            "Complex number: (3+4j)\n",
            "Real part: 3.0\n",
            "Imaginary part: 4.0\n",
            "Magnitude: 5.0\n"
          ]
        }
      ]
    },
    {
      "cell_type": "markdown",
      "source": [
        "#Q7. What is the correct way to declare a variable named age and assign the value 25 to it?\n",
        "###Variable Declaration:\n",
        "- In Python, you don’t need to explicitly declare a variable type.\n",
        "- The type is inferred based on the value assigned to it.\n",
        "\n",
        "###Assignment Operator:\n",
        "- The = operator is used to assign a value to a variable.\n",
        "\n",
        "###Variable Name Rules:\n",
        "- Must start with a letter or an underscore (_).\n",
        "- Cannot start with a number.\n",
        "- Can only contain alphanumeric characters and underscores.\n",
        "- Cannot be a reserved keyword in Python."
      ],
      "metadata": {
        "id": "KZLEDfD1BBLk"
      }
    },
    {
      "cell_type": "code",
      "source": [
        "age = 25\n",
        "print(\"Age:\", age)\n",
        "print(\"Type of age:\", type(age))"
      ],
      "metadata": {
        "colab": {
          "base_uri": "https://localhost:8080/"
        },
        "id": "oeqt2_w5B3mU",
        "outputId": "71a61d3c-60b2-4578-fa2a-1457104eec75"
      },
      "execution_count": 3,
      "outputs": [
        {
          "output_type": "stream",
          "name": "stdout",
          "text": [
            "Age: 25\n",
            "Type of age: <class 'int'>\n"
          ]
        }
      ]
    },
    {
      "cell_type": "markdown",
      "source": [
        "#Q8. Declare a variable named price and assign the value 9.99 to it. What data type does this variable belong to?"
      ],
      "metadata": {
        "id": "wX8oKPzWB8UW"
      }
    },
    {
      "cell_type": "code",
      "source": [
        "price = 9.99\n",
        "print(\"Price:\", price)\n",
        "print(\"Type of price:\", type(price))"
      ],
      "metadata": {
        "colab": {
          "base_uri": "https://localhost:8080/"
        },
        "id": "6FEGkIdLCKYH",
        "outputId": "468c86f2-bd93-402f-a87a-7b079d159862"
      },
      "execution_count": 4,
      "outputs": [
        {
          "output_type": "stream",
          "name": "stdout",
          "text": [
            "Price: 9.99\n",
            "Type of price: <class 'float'>\n"
          ]
        }
      ]
    },
    {
      "cell_type": "markdown",
      "source": [
        "#Q9. Create a variable named name and assign your full name to it as a string. How would you print the value of this variable?"
      ],
      "metadata": {
        "id": "IWznOPi8CNsG"
      }
    },
    {
      "cell_type": "code",
      "source": [
        "# Assigning full name to the variable 'name'\n",
        "name = \"Nitin Kumar Singh\"\n",
        "\n",
        "# Printing the value of the variable 'name'\n",
        "print(name)\n"
      ],
      "metadata": {
        "colab": {
          "base_uri": "https://localhost:8080/"
        },
        "id": "xYnkm57fChXv",
        "outputId": "46d7da46-a0c7-47ef-91ba-eb4b7aa6d56f"
      },
      "execution_count": 5,
      "outputs": [
        {
          "output_type": "stream",
          "name": "stdout",
          "text": [
            "Nitin Kumar Singh\n"
          ]
        }
      ]
    },
    {
      "cell_type": "markdown",
      "source": [
        "#Q10. Given the string \"Hello, World!\", extract the substring \"World\"."
      ],
      "metadata": {
        "id": "WRS-0f8mCoBu"
      }
    },
    {
      "cell_type": "code",
      "source": [
        "my_string = \"Hello, World!\"\n",
        "substring = my_string[7:12]\n",
        "print(substring)"
      ],
      "metadata": {
        "colab": {
          "base_uri": "https://localhost:8080/"
        },
        "id": "0xZlM_NuC2c2",
        "outputId": "e0ad8f5b-e7ca-413b-e153-a99b9fc82e31"
      },
      "execution_count": 6,
      "outputs": [
        {
          "output_type": "stream",
          "name": "stdout",
          "text": [
            "World\n"
          ]
        }
      ]
    },
    {
      "cell_type": "markdown",
      "source": [
        "#Q11. Create a variable named \"is_student\" and assign it a boolean value indicating whether you are currently a student or not."
      ],
      "metadata": {
        "id": "ZHg3nnvXC6_Y"
      }
    },
    {
      "cell_type": "code",
      "source": [
        "is_student = True\n",
        "print(is_student)"
      ],
      "metadata": {
        "colab": {
          "base_uri": "https://localhost:8080/"
        },
        "id": "eP9llU5pDMeU",
        "outputId": "45509349-48bf-4472-d7f8-2daebb764121"
      },
      "execution_count": 7,
      "outputs": [
        {
          "output_type": "stream",
          "name": "stdout",
          "text": [
            "True\n"
          ]
        }
      ]
    }
  ]
}