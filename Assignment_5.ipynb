{
  "nbformat": 4,
  "nbformat_minor": 0,
  "metadata": {
    "colab": {
      "provenance": []
    },
    "kernelspec": {
      "name": "python3",
      "display_name": "Python 3"
    },
    "language_info": {
      "name": "python"
    }
  },
  "cells": [
    {
      "cell_type": "markdown",
      "source": [
        "#Q1. Explain Class and Object with respect to Object-Oriented Programming. Give a suitable example.\n",
        "###Class:\n",
        "- A class is a blueprint or prototype for creating objects. It defines the properties (attributes) and behaviors (methods) that the objects created from the class will have.\n",
        "- A class encapsulates data for the object and defines how that data can be accessed or manipulated.\n",
        "\n",
        "###Object:\n",
        "- An object is an instance of a class. When you create an object, you are creating a specific entity that follows the structure defined in the class.\n",
        "- Each object has its own set of data (attributes) and can perform actions (methods) defined in the class."
      ],
      "metadata": {
        "id": "BzRuVB72SAF2"
      }
    },
    {
      "cell_type": "code",
      "source": [
        "# Define the class\n",
        "class Car:\n",
        "    def __init__(self, make, model, year):\n",
        "        self.make = make\n",
        "        self.model = model\n",
        "        self.year = year\n",
        "\n",
        "    def display_info(self):\n",
        "        print(f\"Car Details: {self.year} {self.make} {self.model}\")\n",
        "\n",
        "    def start(self):\n",
        "        print(f\"The {self.make} {self.model} is starting.\")\n",
        "\n",
        "# Create objects (instances) of the Car class\n",
        "car1 = Car(\"Toyota\", \"Corolla\", 2020)\n",
        "car2 = Car(\"Honda\", \"Civic\", 2021)\n",
        "\n",
        "\n",
        "car1.display_info()\n",
        "car1.start()\n",
        "\n",
        "car2.display_info()\n",
        "car2.start()\n"
      ],
      "metadata": {
        "id": "mXOLsl5gSWFz",
        "colab": {
          "base_uri": "https://localhost:8080/"
        },
        "outputId": "f5cb0585-8176-4451-9664-9614ccab9e73"
      },
      "execution_count": 1,
      "outputs": [
        {
          "output_type": "stream",
          "name": "stdout",
          "text": [
            "Car Details: 2020 Toyota Corolla\n",
            "The Toyota Corolla is starting.\n",
            "Car Details: 2021 Honda Civic\n",
            "The Honda Civic is starting.\n"
          ]
        }
      ]
    },
    {
      "cell_type": "markdown",
      "source": [
        "#Q2. Name the four pillars of OOPs.\n",
        "###1. Encapsulation:\n",
        "- Definition: Encapsulation refers to the bundling of data (attributes) and methods (functions) that operate on that data into a single unit, called a class. It also involves restricting access to certain details of an object to prevent outside interference and misuse.\n",
        "- Key Concept: Access to the object's internal data is typically controlled using access modifiers (e.g., public, private, protected). This ensures that the internal state of the object can only be changed through well-defined methods.\n",
        "- Example: Using getter and setter methods to access and modify the attributes of an object instead of directly accessing the variables.\n",
        "\n",
        "###2. Abstraction:\n",
        "- Definition: Abstraction is the process of hiding the complex implementation details and showing only the essential features of an object. It allows the programmer to focus on the high-level functionality while ignoring the low-level implementation.\n",
        "- Key Concept: By exposing only relevant data and behaviors to the outside world, abstraction simplifies interaction with the object. This is typically achieved through abstract classes or interfaces in programming languages like Python.\n",
        "- Example: A Car class might have a start() method that abstracts the complexity of how the car starts, without needing to show the internal workings (engine start process, fuel system, etc.).\n",
        "\n",
        "###3. Inheritance:\n",
        "- Definition: Inheritance allows a class to inherit properties and behaviors (attributes and methods) from another class. This promotes code reuse and establishes a relationship between the parent (base) class and the child (derived) class.\n",
        "- Key Concept: A derived class can inherit from one or more base classes and can also extend or override methods of the base class.\n",
        "- Example: A Dog class might inherit from an Animal class, gaining common properties like name and methods like speak(), while also defining its own unique behavior.\n",
        "\n",
        "###4. Polymorphism:\n",
        "- Definition: Polymorphism allows objects of different classes to be treated as objects of a common base class. It also allows for methods to be overridden to perform different tasks based on the object calling the method.\n",
        "- Key Concept: The same method or property name can have different implementations depending on the object that is invoking it. This makes code more flexible and extensible.\n",
        "- Example: A speak() method in both the Dog and Cat classes might be implemented differently, but both can be called in the same way on objects of type Dog or Cat.\n",
        "\n"
      ],
      "metadata": {
        "id": "2OGGKHkJS1x5"
      }
    },
    {
      "cell_type": "markdown",
      "source": [
        "#Q3. Explain why the __init__() function is used. Give a suitable example.\n",
        "###The __init__() function in Python is a special method, often referred to as the constructor. It is used to initialize the attributes of an object when it is created. This function is automatically called when a new object of a class is instantiated, and it allows you to set up the initial state of the object by assigning values to its properties.\n",
        "\n",
        "##Key Points:\n",
        "- The __init__() method is called when a new object of the class is created.\n",
        "It is used to initialize the object's state (i.e., set initial values for the object's attributes).\n",
        "- The self parameter refers to the instance of the object that is being created and allows access to its attributes and methods."
      ],
      "metadata": {
        "id": "WkY7qbVvTXrD"
      }
    },
    {
      "cell_type": "code",
      "source": [
        "class Person:\n",
        "    def __init__(self, name, age):\n",
        "        self.name = name\n",
        "        self.age = age\n",
        "\n",
        "    def display_info(self):\n",
        "        print(f\"Name: {self.name}, Age: {self.age}\")\n",
        "\n",
        "person1 = Person(\"Nitin\", 25)\n",
        "person1.display_info()\n",
        "\n",
        "person2 = Person(\"yo boy\", 30)\n",
        "person2.display_info()\n"
      ],
      "metadata": {
        "colab": {
          "base_uri": "https://localhost:8080/"
        },
        "id": "1rQzQW1tTliT",
        "outputId": "f0f2ae95-8d24-4b76-a232-a4e17365e32a"
      },
      "execution_count": 2,
      "outputs": [
        {
          "output_type": "stream",
          "name": "stdout",
          "text": [
            "Name: Nitin, Age: 25\n",
            "Name: yo boy, Age: 30\n"
          ]
        }
      ]
    },
    {
      "cell_type": "markdown",
      "source": [
        "#Q4. Why self is used in OOPs?\n",
        "###In Object-Oriented Programming (OOP), self is a special keyword used to refer to the instance of the class. It is used to access the attributes and methods of the class within the class's methods. The use of self is crucial because it differentiates between instance attributes (unique to each object) and local variables or class attributes.\n",
        "\n",
        "##Key Points About self:\n",
        "- Refers to the current object: self allows us to refer to the current instance of the class, enabling us to access and modify the attributes and methods specific to that instance.\n",
        "- Distinguishes instance attributes from local variables: Without self, there would be no way to distinguish instance variables from local variables within methods.\n",
        "- Used to access attributes and methods: It provides a way to access the instance's attributes and methods within class methods."
      ],
      "metadata": {
        "id": "PXjpS-BOT68i"
      }
    },
    {
      "cell_type": "code",
      "source": [
        "class Car:\n",
        "    def __init__(self, make, model):\n",
        "        self.make = make\n",
        "        self.model = model\n",
        "\n",
        "    def display_info(self):\n",
        "        print(f\"Car Make: {self.make}, Model: {self.model}\")\n",
        "\n",
        "car1 = Car(\"Toyota\", \"Camry\")\n",
        "car2 = Car(\"Honda\", \"Civic\")\n",
        "\n",
        "car1.display_info()\n",
        "car2.display_info()\n"
      ],
      "metadata": {
        "colab": {
          "base_uri": "https://localhost:8080/"
        },
        "id": "lDVO6t7-UCjC",
        "outputId": "4243446a-e276-499b-cfe2-6c09fe111054"
      },
      "execution_count": 3,
      "outputs": [
        {
          "output_type": "stream",
          "name": "stdout",
          "text": [
            "Car Make: Toyota, Model: Camry\n",
            "Car Make: Honda, Model: Civic\n"
          ]
        }
      ]
    },
    {
      "cell_type": "markdown",
      "source": [
        "#Q5. What is inheritance? Give an example for each type of inheritance.\n",
        "###Inheritance is a fundamental concept in OOP that allows a class (known as a subclass or derived class) to inherit attributes and methods from another class (known as a superclass or base class). This mechanism promotes code reusability, as the subclass can reuse the code of the superclass without rewriting it.\n",
        "\n",
        "##Types of Inheritance\n",
        "- Single Inheritance\n",
        "- Multiple Inheritance\n",
        "- Multilevel Inheritance\n",
        "- Hierarchical Inheritance\n",
        "- Hybrid Inheritance\n"
      ],
      "metadata": {
        "id": "RYH98OW1UjQW"
      }
    },
    {
      "cell_type": "code",
      "source": [
        "#Single Inheritance:\n",
        "class Animal:\n",
        "    def speak(self):\n",
        "        print(\"Animal makes a sound\")\n",
        "\n",
        "class Dog(Animal):\n",
        "    def bark(self):\n",
        "        print(\"Dog barks\")\n",
        "\n",
        "dog = Dog()\n",
        "dog.speak()\n",
        "dog.bark()\n"
      ],
      "metadata": {
        "colab": {
          "base_uri": "https://localhost:8080/"
        },
        "id": "3CUuNZxHVAhK",
        "outputId": "8d85ba7e-d9be-4202-a5b6-d5f022107fdd"
      },
      "execution_count": 4,
      "outputs": [
        {
          "output_type": "stream",
          "name": "stdout",
          "text": [
            "Animal makes a sound\n",
            "Dog barks\n"
          ]
        }
      ]
    },
    {
      "cell_type": "code",
      "source": [
        "#Multiple Inheritance:\n",
        "class Animal:\n",
        "    def speak(self):\n",
        "        print(\"Animal makes a sound\")\n",
        "\n",
        "class Dog:\n",
        "    def bark(self):\n",
        "        print(\"Dog barks\")\n",
        "\n",
        "class HybridDog(Animal, Dog):\n",
        "    pass\n",
        "\n",
        "dog = HybridDog()\n",
        "dog.speak()\n",
        "dog.bark()\n"
      ],
      "metadata": {
        "colab": {
          "base_uri": "https://localhost:8080/"
        },
        "id": "TrwJLiwmVO3u",
        "outputId": "cde1d15a-ac29-4af4-c04e-aad0a99bef79"
      },
      "execution_count": 5,
      "outputs": [
        {
          "output_type": "stream",
          "name": "stdout",
          "text": [
            "Animal makes a sound\n",
            "Dog barks\n"
          ]
        }
      ]
    },
    {
      "cell_type": "code",
      "source": [
        "#Multilevel Inheritance:\n",
        "class Animal:\n",
        "    def speak(self):\n",
        "        print(\"Animal makes a sound\")\n",
        "\n",
        "class Dog(Animal):\n",
        "    def bark(self):\n",
        "        print(\"Dog barks\")\n",
        "\n",
        "class Puppy(Dog):\n",
        "    def play(self):\n",
        "        print(\"Puppy plays\")\n",
        "\n",
        "puppy = Puppy()\n",
        "puppy.speak()\n",
        "puppy.bark()\n",
        "puppy.play()"
      ],
      "metadata": {
        "colab": {
          "base_uri": "https://localhost:8080/"
        },
        "id": "p4km8CJVVfGc",
        "outputId": "85b9b86b-aa08-4ad8-d947-3be1f2b1cfb7"
      },
      "execution_count": 6,
      "outputs": [
        {
          "output_type": "stream",
          "name": "stdout",
          "text": [
            "Animal makes a sound\n",
            "Dog barks\n",
            "Puppy plays\n"
          ]
        }
      ]
    },
    {
      "cell_type": "code",
      "source": [
        "#Hierarchical Inheritance:\n",
        "class Animal:\n",
        "    def speak(self):\n",
        "        print(\"Animal makes a sound\")\n",
        "\n",
        "class Dog(Animal):\n",
        "    def bark(self):\n",
        "        print(\"Dog barks\")\n",
        "\n",
        "class Cat(Animal):\n",
        "    def meow(self):\n",
        "        print(\"Cat meows\")\n",
        "\n",
        "dog = Dog()\n",
        "cat = Cat()\n",
        "\n",
        "dog.speak()\n",
        "dog.bark()\n",
        "\n",
        "cat.speak()\n",
        "cat.meow()"
      ],
      "metadata": {
        "colab": {
          "base_uri": "https://localhost:8080/"
        },
        "id": "9OKXnSJqVvme",
        "outputId": "fd938c0d-3664-4829-d38d-96e48cc28555"
      },
      "execution_count": 7,
      "outputs": [
        {
          "output_type": "stream",
          "name": "stdout",
          "text": [
            "Animal makes a sound\n",
            "Dog barks\n",
            "Animal makes a sound\n",
            "Cat meows\n"
          ]
        }
      ]
    },
    {
      "cell_type": "code",
      "source": [
        "#Hybrid Inheritance:\n",
        "class Animal:\n",
        "    def speak(self):\n",
        "        print(\"Animal makes a sound\")\n",
        "\n",
        "class Dog(Animal):\n",
        "    def bark(self):\n",
        "        print(\"Dog barks\")\n",
        "\n",
        "class Cat(Animal):\n",
        "    def meow(self):\n",
        "        print(\"Cat meows\")\n",
        "\n",
        "class HybridDogCat(Dog, Cat):\n",
        "    pass\n",
        "\n",
        "hybrid = HybridDogCat()\n",
        "hybrid.speak()\n",
        "hybrid.bark()\n",
        "hybrid.meow()"
      ],
      "metadata": {
        "colab": {
          "base_uri": "https://localhost:8080/"
        },
        "id": "sy0uUsM-V_6N",
        "outputId": "29ae66cf-0ad7-4beb-d9a9-a45bfd9762c6"
      },
      "execution_count": 8,
      "outputs": [
        {
          "output_type": "stream",
          "name": "stdout",
          "text": [
            "Animal makes a sound\n",
            "Dog barks\n",
            "Cat meows\n"
          ]
        }
      ]
    }
  ]
}